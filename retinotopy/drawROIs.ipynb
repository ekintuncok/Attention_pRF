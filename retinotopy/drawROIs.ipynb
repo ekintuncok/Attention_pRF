{
 "cells": [
  {
   "cell_type": "markdown",
   "metadata": {},
   "source": [
    "This notebook is used for drawing intial ROIs (V1-hV4) that we use in retinotopic cleaning and to run the retinotopic cleaning then inspect the results. After this we can run the bayesian retinotopic maps using neuropythy.\n",
    "\n",
    "1. Visualise maps\n",
    "2. Draw ROIs\n",
    "3. Run cleaning\n",
    "4. Inspect results\n",
    "\n",
    "First, we will import and configure a range of libararies that neuropythy depends upon"
   ]
  },
  {
   "cell_type": "code",
   "execution_count": 3,
   "metadata": {},
   "outputs": [
    {
     "name": "stderr",
     "output_type": "stream",
     "text": [
      "/Users/et2160/anaconda3/lib/python3.10/site-packages/tqdm/auto.py:22: TqdmWarning: IProgress not found. Please update jupyter and ipywidgets. See https://ipywidgets.readthedocs.io/en/stable/user_install.html\n",
      "  from .autonotebook import tqdm as notebook_tqdm\n"
     ]
    },
    {
     "ename": "ModuleNotFoundError",
     "evalue": "No module named 'ipyvolume'",
     "output_type": "error",
     "traceback": [
      "\u001b[0;31m---------------------------------------------------------------------------\u001b[0m",
      "\u001b[0;31mModuleNotFoundError\u001b[0m                       Traceback (most recent call last)",
      "Cell \u001b[0;32mIn[3], line 22\u001b[0m\n\u001b[1;32m     20\u001b[0m \u001b[38;5;28;01mimport\u001b[39;00m \u001b[38;5;21;01mmatplotlib\u001b[39;00m\u001b[38;5;21;01m.\u001b[39;00m\u001b[38;5;21;01mpyplot\u001b[39;00m \u001b[38;5;28;01mas\u001b[39;00m \u001b[38;5;21;01mplt\u001b[39;00m\n\u001b[1;32m     21\u001b[0m \u001b[38;5;66;03m# We also use the 3D graphics library ipyvolume for 3D surface rendering\u001b[39;00m\n\u001b[0;32m---> 22\u001b[0m \u001b[38;5;28;01mimport\u001b[39;00m \u001b[38;5;21;01mipyvolume\u001b[39;00m \u001b[38;5;28;01mas\u001b[39;00m \u001b[38;5;21;01mipv\u001b[39;00m\n",
      "\u001b[0;31mModuleNotFoundError\u001b[0m: No module named 'ipyvolume'"
     ]
    }
   ],
   "source": [
    "# Import some standard/utility libraries:\n",
    "import os, sys, time, h5py, zipfile\n",
    "import six           # six provides python 2/3 compatibility\n",
    "\n",
    "# Import our numerical/scientific libraries, scipy and numpy:\n",
    "import numpy as np\n",
    "import scipy as sp\n",
    "\n",
    "# The pimms (Python Immutables) library is a utility library that enables lazy\n",
    "# computation and immutble data structures; https://github.com/noahbenson/pimms\n",
    "import pimms\n",
    "\n",
    "# The neuropythy library is a swiss-army-knife for handling MRI data, especially\n",
    "# anatomical/structural data such as that produced by FreeSurfer or the HCP.\n",
    "import neuropythy as ny\n",
    "\n",
    "# Import graphics libraries:\n",
    "# Matplotlib/Pyplot is our 2D graphing library:\n",
    "import matplotlib as mpl\n",
    "import matplotlib.pyplot as plt\n",
    "# We also use the 3D graphics library ipyvolume for 3D surface rendering\n",
    "import ipyvolume as ipv"
   ]
  },
  {
   "cell_type": "code",
   "execution_count": null,
   "metadata": {},
   "outputs": [],
   "source": []
  },
  {
   "cell_type": "code",
   "execution_count": null,
   "metadata": {},
   "outputs": [],
   "source": [
    "# These \"magic commands\" tell matplotlib that we want to plot figures inline and\n",
    "# That we are using qt as a backend; due to bugs in certain versions of\n",
    "# matplotlib, we put them in a separate cell from the import statements above\n",
    "# and the configuration statements below.\n",
    "%gui qt\n",
    "%matplotlib inline"
   ]
  },
  {
   "cell_type": "code",
   "execution_count": null,
   "metadata": {},
   "outputs": [],
   "source": [
    "# Additional matplotlib preferences:\n",
    "font_data = {'family':'sans-serif',\n",
    "             'sans-serif':['Helvetica Neue', 'Helvetica', 'Arial'],\n",
    "             'size': 10,\n",
    "             'weight': 'light'}\n",
    "mpl.rc('font',**font_data)\n",
    "# we want relatively high-res images, especially when saving to disk.\n",
    "mpl.rcParams['figure.dpi'] = 72*2\n",
    "mpl.rcParams['savefig.dpi'] = 72*4"
   ]
  },
  {
   "cell_type": "markdown",
   "metadata": {},
   "source": [
    "Set up paths to data in Retinotopy_Comp in the winawerlab server"
   ]
  },
  {
   "cell_type": "code",
   "execution_count": null,
   "metadata": {},
   "outputs": [],
   "source": [
    "project_path = '/Volumes/server/Projects/attentionpRF' #path to BIDS directory\n",
    "\n",
    "subname = 'wlsubj122' #what subject?\n",
    "sesname = 'nyu3t01' #and session\n",
    "\n",
    "# The subject freesurfer directory and the kind of subject it is\n",
    "subject_path = project_path + '/derivatives/freesurfer/sub-' + subname\n",
    "subject_type = 'freesurfer' # where the freesurfer data are stored\n",
    "\n",
    "# The directory containing the pRF parameters\n",
    "#prf_path = project_path + '/derivatives/prfs/sub-' + subname + '/ses-' + sesname\n",
    "prf_path = project_path + '/derivatives/prfs/sub-' + subname + '/ses-nyu3t99/prfFolder/avg'\n",
    "# how the files are named:\n",
    "prf_filename_patt = '{hemi}.{prop}.mgz' #pRF\n",
    "\n",
    "# the prf property names as keys, what are the {prop} taks in the file?\n",
    "# we are using the adjusted angle params that we converted from vista to neuropythy\n",
    "prf_props = {'polar_angle':        'angle_adj',\n",
    "             'eccentricity':       'eccen',\n",
    "             'radius':             'sigma',\n",
    "             'variance_explained': 'vexpl'}"
   ]
  },
  {
   "cell_type": "code",
   "execution_count": null,
   "metadata": {},
   "outputs": [],
   "source": [
    "project_path = '/Volumes/server/Projects/Retinotopy_NYU_3T' #path to BIDS directory\n",
    "\n",
    "subname = 'wlsubj123' #what subject?\n",
    "sesname = 'nyu3t01' #and session\n",
    "\n",
    "# The subject freesurfer directory and the kind of subject it is\n",
    "subject_path = project_path + '/derivatives/freesurfer/sub-' + subname\n",
    "subject_type = 'freesurfer' # where the freesurfer data are stored\n",
    "\n",
    "# The directory containing the pRF parameters\n",
    "#prf_path = project_path + '/derivatives/prfs/sub-' + subname + '/ses-' + sesname\n",
    "prf_path = project_path + '/derivatives/prfanalyze-vista/sub-' + subname + '/ses-nyu3t01/'\n",
    "# how the files are named:\n",
    "prf_filename_patt = '{hemi}.{prop}.mgz' #pRF\n",
    "\n",
    "# the prf property names as keys, what are the {prop} taks in the file?\n",
    "# we are using the adjusted angle params that we converted from vista to neuropythy\n",
    "prf_props = {'polar_angle':        'angle_adj',\n",
    "             'eccentricity':       'eccen',\n",
    "             'radius':             'sigma',\n",
    "             'variance_explained': 'vexpl'}"
   ]
  },
  {
   "cell_type": "code",
   "execution_count": null,
   "metadata": {
    "scrolled": true
   },
   "outputs": [],
   "source": [
    "# Load the prf parameters into a map, using the data in the above cell.\n",
    "prf_params = {}\n",
    "for hemi in ['lh','rh']:\n",
    "    tmp = {}\n",
    "    for (prop, fname_tag) in prf_props.items():\n",
    "        filename = prf_filename_patt.format(hemi=hemi, prop=fname_tag)\n",
    "        tmp['prf_' + prop] = ny.load(os.path.join(prf_path, filename))\n",
    "    prf_params[hemi] = tmp\n",
    "    \n",
    "    # Print them out to be safe\n",
    "prf_params"
   ]
  },
  {
   "cell_type": "code",
   "execution_count": null,
   "metadata": {},
   "outputs": [],
   "source": [
    "# we >copy< each hemisphere surface so we can project the retinotopy data onto mesh for us to draw ROIs on\n",
    "\n",
    "#first, set up a subject with the above data included\n",
    "sub = ny.freesurfer_subject(subject_path)\n",
    "lh = sub.lh.with_prop(prf_params['lh'])\n",
    "rh = sub.rh.with_prop(prf_params['rh'])\n",
    "sub = sub.copy(hemis=pimms.assoc(sub.hemis, lh=lh, rh=rh))"
   ]
  },
  {
   "cell_type": "code",
   "execution_count": null,
   "metadata": {},
   "outputs": [],
   "source": [
    "subject_path"
   ]
  },
  {
   "cell_type": "code",
   "execution_count": null,
   "metadata": {},
   "outputs": [],
   "source": [
    "flatmaps = {h: ny.to_flatmap('occipital_pole', sub.hemis[h])\n",
    "            for h in ('lh', 'rh')}"
   ]
  },
  {
   "cell_type": "markdown",
   "metadata": {},
   "source": [
    "## Tracing ROIs\n",
    "\n",
    "Now it is time to draw the ROIs by tracing a >trace<, saving it out as a JSON, and then we convert the trace to a >path< to be projected onto the cortical surface...\n",
    "\n",
    "The way the following cell works is that we evaluate it once for each of the ROIs we're going to draw. We draw V1 first then V2, then V3, then hV4. We update the name of the ROI we're drawing (at the top of the cell) each time we draw a new ROI (so that the resulting trace gets stored in a new place).\n",
    "\n",
    "Note that eventually we turn these paths into labels, and the higher order labels exclude the lower order labels, so we can overlap our ROIs...\n",
    "\n",
    "\n",
    "Note: sometimes I get errors when loading up the flatmap to draw the ROIs on. The errors tell me nothing but if you just try to reload the flatmap it works. Some bug."
   ]
  },
  {
   "cell_type": "code",
   "execution_count": null,
   "metadata": {},
   "outputs": [],
   "source": [
    "%matplotlib notebook"
   ]
  },
  {
   "cell_type": "code",
   "execution_count": null,
   "metadata": {
    "scrolled": false
   },
   "outputs": [],
   "source": [
    "h = 'lh' \n",
    "roi = 1\n",
    "number_of_rois = 7\n",
    "\n",
    "mask=({'and':[('prf_variance_explained', 0, np.inf),('prf_eccentricity', 0, np.inf)]})\n",
    "\n",
    "if roi == 1: traces = {}\n",
    "flatmap = flatmaps[h]\n",
    "hemi = sub.hemis[h]\n",
    "\n",
    "# Go ahead and setup the figure and axes onto which we will plot:\n",
    "(fig,ax) = plt.subplots(1,1, figsize=(5,5), dpi=2*72)\n",
    "fig.subplots_adjust(0,0,1,1,0,0)\n",
    "ax.axis('off')\n",
    "\n",
    "# The trace_roi function will take care of the plots (which we made\n",
    "# in an earlier cell) and also add the previous ROI traces:\n",
    "for (k,v) in six.iteritems(traces):\n",
    "    if v is None or not v.is_persistent(): continue\n",
    "    (x,y) = v.points\n",
    "    # Close the points in the trace:\n",
    "    x = np.concatenate([x,[x[0]]])\n",
    "    y = np.concatenate([y,[y[0]]])\n",
    "    # Plot the trace:\n",
    "    ax.plot(x, y, 'k.-', lw=0.5)\n",
    "\n",
    "# Make the plots we want to be able to cycle through\n",
    "plots = [ny.cortex_plot(flatmap, axes=ax, color='prf_polar_angle', mask = mask),\n",
    "         ny.cortex_plot(flatmap, axes=ax, color='prf_eccentricity', mask = mask),\n",
    "         ny.cortex_plot(flatmap, axes=ax, color='prf_radius', mask = mask),\n",
    "         ny.cortex_plot(flatmap, axes=ax)]\n",
    "\n",
    "\n",
    "roi_path = ('/Volumes/server/Projects/attentionpRF/derivatives/freesurfer/sub-{}/surf/{}.ROIs_V1-IPS.mgz'.format(subname, h))\n",
    "#roi_path = ('/Volumes/server/Projects/Retinotopy_NYU_3T/derivatives/prfanalyze-vista/sub-wlsubj135/ses-nyu3t01/{}.ROIs_V1-4.mgz'.format(h))\n",
    "(u,v) = flatmaps[h].tess.indexed_edges\n",
    "atlas = sub.load(roi_path)\n",
    "lbls = atlas[flatmaps[h].labels]\n",
    "ii = lbls[u] != lbls[v]\n",
    "(x,y) = np.mean(flatmaps[h].edge_coordinates[:,:,ii], axis=0)\n",
    "ax.plot(x, y,'.',markersize=0.5,color='white')\n",
    "\n",
    "\n",
    "\n",
    "tr = ny.graphics.trace_roi(hemi, flatmap, ax, closed=True, plot_list=plots)\n",
    "traces[roi] = tr\n",
    "plt.show()\n",
    "\n",
    "\n",
    "\n"
   ]
  },
  {
   "cell_type": "code",
   "execution_count": null,
   "metadata": {},
   "outputs": [],
   "source": [
    "    # Once the traces have been made, we can export them to a JSON file;\n",
    "# this saves all the relevant data (including the parameters of the\n",
    "# map-projection used to make the plots). They can be loaded back\n",
    "# in later using ny.load(filename).\n",
    "\n",
    "# JSON doesn't support dictionary keys that are integers, so we\n",
    "# convert them into strings before we write out the file:\n",
    "#json_traces = {('V%d' % k): traces for (k,tr) in six.iteritems(traces)}\n",
    "json_traces = {('V%d' % k): tr for (k,tr) in six.iteritems(traces)}\n",
    "\n",
    "\n",
    "ny.save('/Volumes/server/Projects/attentionpRF/derivatives/ROI_traces/v1234567-traces_sub-{}_{}.json'.format(subname,h), json_traces)"
   ]
  },
  {
   "cell_type": "code",
   "execution_count": null,
   "metadata": {},
   "outputs": [],
   "source": [
    "rh_traces = ny.load('/Volumes/server/Projects/attentionpRF/derivatives/ROI_traces/v1234567-traces_sub-{}_rh.json'.format(subname))\n",
    "number_of_rois = 6\n",
    "rh_old_trace = {}\n",
    "for t in range(1,number_of_rois+1):\n",
    "    rh_old_trace[t] = rh_traces['V{}'.format(t)]\n",
    "rh_traces = rh_old_trace"
   ]
  },
  {
   "cell_type": "code",
   "execution_count": null,
   "metadata": {},
   "outputs": [],
   "source": [
    "rh_paths = {k: v.to_path(sub.hemis['rh']) for (k,v) in six.iteritems(rh_traces)}\n",
    "\n",
    "rh_lbls = ny.paths_to_labels(sub.hemis['rh'], rh_paths)\n",
    "\n",
    "save_dir =  '/Volumes/server/Projects/attentionpRF/derivatives/freesurfer/sub-' + subname + '/surf'\n",
    "ny.save(save_dir + '/rh.ROIs_V1-IPS.mgz'.format(subname), rh_lbls)\n",
    "\n",
    "\n"
   ]
  },
  {
   "cell_type": "code",
   "execution_count": null,
   "metadata": {},
   "outputs": [],
   "source": [
    "# Now let's turn the traces into paths on the cortical surface, and then V1-V3 labels.\n",
    "\n",
    "#Load in our ROI traces\n",
    "lh_traces = ny.load('/Volumes/server/Projects/attentionpRF/derivatives/ROI_traces/v1234567-traces_sub-{}_lh.json'.format(subname))\n",
    "rh_traces = ny.load('/Volumes/server/Projects/attentionpRF/derivatives/ROI_traces/v1234567-traces_sub-{}_rh.json'.format(subname))\n",
    "\n",
    "# now we want to convert the trace dictionary key from V1 - V3 to just 1 - 3 so that the cleaning can read it properly\n",
    "lh_old_trace = {}\n",
    "for t in range(1,number_of_rois+1):\n",
    "    lh_old_trace[t] = lh_traces['V{}'.format(t)]\n",
    "lh_traces = lh_old_trace\n",
    "\n",
    "rh_old_trace = {}\n",
    "for t in range(1,number_of_rois+1):\n",
    "    rh_old_trace[t] = rh_traces['V{}'.format(t)]\n",
    "rh_traces = rh_old_trace\n"
   ]
  },
  {
   "cell_type": "code",
   "execution_count": null,
   "metadata": {},
   "outputs": [],
   "source": [
    "#and finally convert the traces to paths for the cortical surface\n",
    "\n",
    "# Turn these traces into paths for the cortical surface. \n",
    "lh_paths = {k: v.to_path(sub.hemis['lh']) for (k,v) in six.iteritems(lh_traces)}\n",
    "rh_paths = {k: v.to_path(sub.hemis['rh']) for (k,v) in six.iteritems(rh_traces)}\n",
    "\n",
    "# The paths get turned into labels; higher-number labels exclude the\n",
    "# vertices in lower-number labels, so the overlapping areas go to V1\n",
    "# first, V2 second.\n",
    "lh_lbls = ny.paths_to_labels(sub.hemis['lh'], lh_paths)\n",
    "rh_lbls = ny.paths_to_labels(sub.hemis['rh'], rh_paths)"
   ]
  },
  {
   "cell_type": "code",
   "execution_count": null,
   "metadata": {},
   "outputs": [],
   "source": [
    "save_dir =  '/Volumes/server/Projects/attentionpRF/derivatives/freesurfer/sub-' + subname + '/surf'\n",
    "ny.save(save_dir + '/lh.ROIs_V1-IPS.mgz'.format(subname), lh_lbls)\n",
    "ny.save(save_dir + '/rh.ROIs_V1-IPS.mgz'.format(subname), rh_lbls)\n",
    "\n"
   ]
  }
 ],
 "metadata": {
  "kernelspec": {
   "display_name": "Python 3 (ipykernel)",
   "language": "python",
   "name": "python3"
  },
  "language_info": {
   "codemirror_mode": {
    "name": "ipython",
    "version": 3
   },
   "file_extension": ".py",
   "mimetype": "text/x-python",
   "name": "python",
   "nbconvert_exporter": "python",
   "pygments_lexer": "ipython3",
   "version": "3.10.9"
  }
 },
 "nbformat": 4,
 "nbformat_minor": 4
}
