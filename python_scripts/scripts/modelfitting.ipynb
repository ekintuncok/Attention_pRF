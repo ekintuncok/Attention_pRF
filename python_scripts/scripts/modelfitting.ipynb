{
 "cells": [
  {
   "cell_type": "code",
   "execution_count": 1,
   "id": "26f877c3",
   "metadata": {},
   "outputs": [],
   "source": [
    "import numpy as np\n",
    "import math\n",
    "import scipy.io\n",
    "import os\n",
    "import matplotlib.pyplot as plt\n",
    "from scipy.io import loadmat\n",
    "import ipywidgets as widgets\n",
    "import torch"
   ]
  },
  {
   "cell_type": "code",
   "execution_count": null,
   "id": "78e434ec",
   "metadata": {},
   "outputs": [],
   "source": [
    "def create_spatial_grid_torch(stim, stim_ecc, gridsize):\n",
    "    ecc = torch.linspace(-stim_ecc,stim_ecc,gridsize)\n",
    "    X, Y = torch.meshgrid(ecc, ecc)\n",
    "    Y = -1*Y\n",
    "    (s1, s2) = (stim.shape[0] // X.shape[0]+1, stim.shape[1] // X.shape[0]+1)\n",
    "    input_stim = stim[::s1,::s2]\n",
    "    return input_stim, X, Y"
   ]
  },
  {
   "cell_type": "code",
   "execution_count": null,
   "id": "1fd45b75",
   "metadata": {},
   "outputs": [],
   "source": [
    "def flat_gaussian_field_torch(X,Y,x,y,sigma,gain,normalize):\n",
    "    gaussian = gain*(torch.exp(-((X-x)**2 +(Y-y)**2)/(2*sigma)**2))\n",
    "    if normalize: # this normalizes the Gaussian field to the unit volume before flattening it\n",
    "        gaussian = gaussian/torch.sum(gaussian)\n",
    "    return gaussian.flatten()"
   ]
  },
  {
   "cell_type": "code",
   "execution_count": null,
   "id": "2d8c50f0",
   "metadata": {},
   "outputs": [],
   "source": [
    "def simulate_prfs(n_voxels = 9, stim_ecc = 10):  \n",
    "    coord = torch.sqrt((torch.tensor((stim_ecc))**2)/2)\n",
    "\n",
    "    x = torch.linspace(-coord, coord, n_voxels)\n",
    "    y = -1*torch.linspace(-coord, coord, n_voxels)\n",
    "    simulated_prfs = torch.zeros((n_voxels, len(x)*len(y)))\n",
    "    sigma = torch.zeros((n_voxels))\n",
    "\n",
    "    for rf in range(0,n_voxels):\n",
    "        eccen = torch.sqrt(x[rf]**2 + y[rf]**2)\n",
    "        sigma[rf] = 0.05 + 0.2*eccen\n",
    "\n",
    "    X, Y = torch.meshgrid(x, y)\n",
    "    for rf in range(0,n_voxels):\n",
    "        gain[rf] = torch.randint(1,4,(1,)) # assign a random gain value when simulating, not sure if the best way\n",
    "        simulated_prfs[rf,:] = flat_gaussian_field_torch(X,Y,x[rf],y[rf],sigma[rf], gain[rf], True)\n",
    "\n",
    "    prf_parameters = np.zeros((4,9))\n",
    "    prf_parameters[0,:] = x\n",
    "    prf_parameters[1,:] = y\n",
    "    prf_parameters[2,:] = sigma\n",
    "    prf_parameters[3,:] = gain\n",
    "    \n",
    "    return simulated_prfs, prf_parameters"
   ]
  },
  {
   "cell_type": "code",
   "execution_count": null,
   "id": "d9648d6f",
   "metadata": {},
   "outputs": [],
   "source": [
    "class AttModel(torch.nn.Module):\n",
    "    def __init__(self,  prf_parameters, n_voxels=9, gridsize=81, stim_ecc=10, \n",
    "                 attention_ctr=(0, 0)):\n",
    "        \"\"\"\n",
    "        \"\"\"\n",
    "        super().__init__()\n",
    "        self.simulated_prfs = prf_parameters\n",
    "        self.attention_ctr = attention_ctr\n",
    "        self.n_voxels = n_voxels\n",
    "        ecc = torch.linspace(-stim_ecc, stim_ecc, gridsize)\n",
    "        self.X, self.Y = torch.meshgrid(ecc, ecc)\n",
    "        \n",
    "        self.voxel_gain = torch.nn.Parameter(torch.rand(1, n_voxels, dtype=torch.float32))\n",
    "        self.attention_sigma = torch.nn.Parameter(torch.rand(1, dtype=torch.float32))\n",
    "        self.attention_gain = torch.nn.Parameter(torch.rand(1, dtype=torch.float32))\n",
    "        self.suppression_sigma_scale_factor = torch.nn.Parameter(torch.rand(1, dtype=torch.float32))\n",
    "        self.suppression_gain = torch.nn.Parameter(torch.rand(1, dtype=torch.float32))\n",
    "        self.summation_sigma_scale_factor = torch.nn.Parameter(torch.rand(1, dtype=torch.float32))\n",
    "        \n",
    "    def forward(self, stim):\n",
    "        \"\"\"\n",
    "        \"\"\"\n",
    "\n",
    "        stimdrive = torch.empty(self.n_voxels)\n",
    "        numerator = torch.empty(self.n_voxels)\n",
    "        surroundresponse = torch.empty(self.n_voxels)\n",
    "        for rf in range(self.n_voxels):\n",
    "            RF = flat_gaussian_field_torch(self.X, self.Y, self.simulated_prfs[0,rf], self.simulated_prfs[1,rf], self.simulated_prfs[2,rf], self.voxel_gain, True)\n",
    "            stim = stim.flatten()\n",
    "            stimdrive[rf] = torch.dot(RF, stim)\n",
    "            attweight = torch.exp(-((self.attention_ctr[0]-self.simulated_prfs[0,rf])**2 \n",
    "                                     + (self.attention_ctr[1]-self.simulated_prfs[1,rf])**2)/(2*self.attention_sigma)**2)\n",
    "            attweight =  self.attention_gain*attweight+1\n",
    "            numerator[rf] = torch.multiply(stimdrive[rf],attweight)\n",
    "        \n",
    "        for rfsupp in range(self.n_voxels):\n",
    "            distance = torch.sqrt((self.X-self.stim_driven_prfs[1, rfsupp])**2\n",
    "                                  + (self.Y-self.stim_driven_prfs[0,rfsupp])**2)\n",
    "            suppfield = torch.exp(-.5*(distance/(self.stim_driven_prfs[2,rfsupp]*self.suppression_sigma_scale_factor))**2)\n",
    "            suppfield = suppfield / torch.sum(suppfield)\n",
    "            flatsurr = flatsurr.flatten()\n",
    "            surroundresponse[rfsupp] = torch.dot(torch.transpose(flatsurr),numerator)\n",
    "            \n",
    "        # ADD SUPPRESSION\n",
    "        return numerator"
   ]
  },
  {
   "cell_type": "code",
   "execution_count": null,
   "id": "7001f882",
   "metadata": {},
   "outputs": [],
   "source": [
    "simulated_prfs, prf_parameters = simulate_prfs()"
   ]
  },
  {
   "cell_type": "code",
   "execution_count": null,
   "id": "b34b6d0f",
   "metadata": {},
   "outputs": [],
   "source": [
    "attn_model = AttModel(simulated_prfs)"
   ]
  },
  {
   "cell_type": "code",
   "execution_count": null,
   "id": "cec07126",
   "metadata": {},
   "outputs": [],
   "source": [
    "stimpath = '/Volumes/server/Projects/attentionpRF/Simulations/python_scripts/stimfiles'\n",
    "stimtemp = scipy.io.loadmat(stimpath + '/stim.mat')\n",
    "stimtemp = torch.from_numpy(stimtemp['stim']).to(torch.float32)\n",
    "stimorig = stimtemp[:,:,12]\n",
    "stimorig = stimorig[::1080//81, ::1080//81]\n",
    "stimorig = stimorig[:81, :81]"
   ]
  },
  {
   "cell_type": "code",
   "execution_count": null,
   "id": "69c3b59f",
   "metadata": {
    "scrolled": false
   },
   "outputs": [],
   "source": [
    "attn_model(stimorig)"
   ]
  }
 ],
 "metadata": {
  "kernelspec": {
   "display_name": "Python 3 (ipykernel)",
   "language": "python",
   "name": "python3"
  },
  "language_info": {
   "codemirror_mode": {
    "name": "ipython",
    "version": 3
   },
   "file_extension": ".py",
   "mimetype": "text/x-python",
   "name": "python",
   "nbconvert_exporter": "python",
   "pygments_lexer": "ipython3",
   "version": "3.8.5"
  }
 },
 "nbformat": 4,
 "nbformat_minor": 5
}
