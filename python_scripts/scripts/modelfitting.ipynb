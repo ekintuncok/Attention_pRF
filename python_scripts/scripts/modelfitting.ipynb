{
 "cells": [
  {
   "cell_type": "code",
   "execution_count": 12,
   "id": "31c8dfdb",
   "metadata": {
    "pycharm": {
     "name": "#%%\n"
    }
   },
   "outputs": [],
   "source": [
    "import numpy as np\n",
    "import scipy.io\n",
    "import matplotlib.pyplot as plt\n",
    "import torch\n",
    "from tqdm import tqdm\n",
    "import ipywidgets as widgets"
   ]
  },
  {
   "cell_type": "markdown",
   "id": "49f4d0bf",
   "metadata": {},
   "source": [
    "some notes:\n",
    "change the seed for the random number and try fitting the data multiple times\n",
    "\n"
   ]
  },
  {
   "cell_type": "code",
   "execution_count": 13,
   "id": "4bf2f562",
   "metadata": {},
   "outputs": [],
   "source": [
    "def create_spatial_grid(stim_ecc, gridsize):\n",
    "    \"\"\"This function samples the visual space for a given eccentricity coverage and gridsize. \n",
    "    The x and y coordinate outputs arethen used for creating the pRF parameters (see create_prf_params function). \n",
    "    NMA is strictly implemented for a formulated space, so the model will only work \n",
    "    if the receptive fields are defined within the same grid as the input stimulus. \"\"\"\n",
    "    \n",
    "    coord = np.sqrt(((stim_ecc)**2)/2)\n",
    "    x_coordinates = np.linspace(-coord, coord, gridsize)\n",
    "    y_coordinates = np.linspace(coord, -coord, gridsize)\n",
    "    X, Y = np.meshgrid(x_coordinates, y_coordinates)\n",
    "    \n",
    "    X = torch.from_numpy(X)\n",
    "    X = X.to(torch.float32)\n",
    "    \n",
    "    Y = torch.from_numpy(Y)\n",
    "    Y = Y.to(torch.float32)\n",
    "    \n",
    "    return x_coordinates, y_coordinates, X, Y\n",
    "\n"
   ]
  },
  {
   "cell_type": "code",
   "execution_count": 14,
   "id": "4b8f4c1c",
   "metadata": {},
   "outputs": [],
   "source": [
    "def prepare_stimulus(stim, gridsize):\n",
    "    \"\"\"This function uses 1D interpolation across columns and rows separately, and resizes the original \n",
    "    stimulus input to the desired grid size\"\"\"    \n",
    "    old_dim, new_dim = stim.shape[0], gridsize\n",
    "    col_im = np.zeros((new_dim,old_dim))\n",
    "    input_stim = np.zeros((new_dim,new_dim,stimorig.shape[2]))\n",
    "    nls, ols = np.linspace(0, 1, new_dim), np.linspace(0,1,old_dim)\n",
    "\n",
    "    for stimidx in range(0, stimorig.shape[2]):\n",
    "        for col in range(old_dim):\n",
    "            col_im[:,col] = np.interp(nls,ols,stimorig[:,col,stimidx])\n",
    "        for col in range(new_dim):\n",
    "            input_stim[col,:, stimidx] = np.interp(nls,ols,col_im[col,:])\n",
    "    \n",
    "    input_stim = torch.from_numpy(input_stim)\n",
    "    input_stim = input_stim.to(torch.float32)\n",
    "    \n",
    "    return input_stim\n",
    "\n"
   ]
  },
  {
   "cell_type": "code",
   "execution_count": 15,
   "id": "512ea839",
   "metadata": {},
   "outputs": [],
   "source": [
    "def create_prf_centers_torch(x_coordinates, y_coordinates):\n",
    "    \"\"\"Combines each element of x coordinates with y coordinates to tile the visual\n",
    "    field\"\"\"\n",
    "    \n",
    "    prf_parameters = np.zeros((2,len(x_coordinates)*len(y_coordinates)))\n",
    "    iter_idx = 0\n",
    "    \n",
    "    for i in range(0,len(y_coordinates)):\n",
    "        for j in range(0,len(x_coordinates)):\n",
    "            prf_parameters[0,iter_idx] = x_coordinates[j] \n",
    "            prf_parameters[1,iter_idx] = y_coordinates[i]\n",
    "            iter_idx = iter_idx + 1 \n",
    "    \n",
    "    \n",
    "    prf_parameters = torch.from_numpy(prf_parameters)\n",
    "    \n",
    "    return prf_parameters\n",
    "\n"
   ]
  },
  {
   "cell_type": "code",
   "execution_count": 16,
   "id": "86fcdf15",
   "metadata": {},
   "outputs": [],
   "source": [
    "def flat_gaussian_field(X, Y, x, y, sigma, normalize= True, flat = True):\n",
    "    \"\"\"Creates a 2D Gaussian for the given X and Y center and the sigma factor.\n",
    "    Has the option to 1) normalize the Gaussian field to the unit volume and \n",
    "    2) flatten the Gaussian (vectorize it)\"\"\"\n",
    "    gaussian = torch.exp(-((X-x)**2 +(Y-y)**2)/(2*sigma)**2)\n",
    "\n",
    "    if normalize: \n",
    "        gaussian = gaussian/torch.linalg.norm(gaussian)\n",
    "    if flat:\n",
    "        gaussian = gaussian.flatten()\n",
    "    gaussian = gaussian.to(torch.float32)\n",
    "    \n",
    "    return gaussian\n"
   ]
  },
  {
   "cell_type": "code",
   "execution_count": 47,
   "id": "77ecfd63",
   "metadata": {},
   "outputs": [],
   "source": [
    "def interpolate_voxel_center(X, Y, voxeldata):\n",
    "    \n",
    "    voxel_lookup_indices = torch.empty(voxeldata.shape[1], dtype=torch.long)\n",
    "    distance_vector = torch.empty((len(X)*len(Y),voxeldata.shape[1]))\n",
    "    X = X.flatten()\n",
    "    Y = Y.flatten()\n",
    "    \n",
    "    for idx in range(0,voxeldata.shape[1]):\n",
    "        distance_vector[:,idx] = torch.sqrt((voxeldata[0, idx] - X)**2 + (voxeldata[1, idx] - Y)**2)\n",
    "        voxel_lookup_indices[idx] = torch.argmin(torch.abs(distance_vector)) \n",
    "\n",
    "    return distance_vector, voxel_lookup_indices"
   ]
  },
  {
   "cell_type": "code",
   "execution_count": 40,
   "id": "3321a675",
   "metadata": {
    "pycharm": {
     "name": "#%%\n"
    }
   },
   "outputs": [],
   "source": [
    "class NormalizationModelofAttention(torch.nn.Module):\n",
    "    def __init__(self,  normalization_sigma, lookup_prf_centers, voxeldata, attention_ctr, gridsize, stim_ecc=10):\n",
    "        \"\"\"\n",
    "        The model is initialized using the X and Y coordinates of the estimated pRFs for each voxel,\n",
    "        total number of voxels (this can be indexed on the first input), grid size (this will depend on how precise\n",
    "        we want to get?), stimulys eccentricity (max) and the X and Y coordinates of attention field\n",
    "        \"\"\"\n",
    "        super().__init__() #super() alone returns a temporary object of the superclass that then allows you to call that superclass’s methods.\n",
    "        self.RF_X = lookup_prf_centers[0,:]\n",
    "        self.RF_Y = lookup_prf_centers[1,:]\n",
    "        self.voxeldata = voxeldata\n",
    "        self.attention_ctr = attention_ctr # double check here if # of att condition is equal to the number of \n",
    "        # centers returned.\n",
    "        \n",
    "        self.X, self.Y = create_spatial_grid(stim_ecc, gridsize)[2:4]\n",
    "        self.ROI_normalization_sigma_factor = normalization_sigma\n",
    "                \n",
    "        ### PARAMETERS\n",
    "        # These are our main parameters to be optimized:\n",
    "        #self.voxel_gain = torch.nn.Parameter(torch.rand(1, n_voxels, dtype=torch.float32))\n",
    "        self.voxel_gain = torch.ones((1, len(self.RF_X)), dtype = torch.float32)\n",
    "        self.ROI_pRF_sigma_scale_factor = torch.nn.Parameter(torch.rand(1, dtype=torch.float32))\n",
    "        self.ROI_attention_field_sigma = torch.nn.Parameter(torch.rand(1, dtype=torch.float32))\n",
    "        self.ROI_attention_field_gain = torch.nn.Parameter(torch.rand(1, dtype=torch.float32))\n",
    "        self.suppression_sigma_scale_factor = torch.nn.Parameter(torch.rand(1, dtype=torch.float32))\n",
    "        self.ROI_summation_sigma_scale_factor = torch.nn.Parameter(torch.rand(1, dtype=torch.float32))\n",
    "        \n",
    "    def forward(self, voxel_lookup_indices, stim):\n",
    "        #### ASK BILLY:\n",
    "        # consider time -- init saves you time\n",
    "        # what is the reason for the stimulus to be an input to the forward, rather than\n",
    "        # adopting it from the initialized self along with the other fixed parameters that\n",
    "        # we pass onto the initialization??????\n",
    "        \"\"\"\n",
    "        Predicts the estimates of BOLD activity for a given input stimulus based on the normalization model of attention.\n",
    "\n",
    "        \"\"\"\n",
    "        ####\n",
    "        # check the stimulus size here and turn it into 3D if not --> stim.unsqueeze(-1)\n",
    "        ####\n",
    "        stimdrive = torch.empty(len(self.RF_X))\n",
    "        numerator = torch.empty(len(self.RF_X))\n",
    "        surroundresponse = torch.empty(len(self.RF_X))\n",
    "        spsummedresponse = torch.empty(len(self.RF_X))\n",
    "        predicted_response = torch.empty(self.voxeldata.shape[1])\n",
    "\n",
    "        \n",
    "        rf_sigma =  0.07 + self.ROI_pRF_sigma_scale_factor * (torch.sqrt(self.RF_X**2 +  self.RF_Y**2))\n",
    "\n",
    "        for rf in range(0, len(self.RF_X)):\n",
    "            # estimate the stimulus driven response under the attention field for this given RF:\n",
    "            pRF = flat_gaussian_field(self.X,self.Y,self.RF_X[rf],self.RF_Y[rf],rf_sigma[rf])\n",
    "            \n",
    "            stim_vec =  torch.flatten(stim)\n",
    "            stimdrive = torch.dot(pRF, stim_vec)\n",
    "            #stimdrive = torch.einsum('ij,ij->', pRF, stim)\n",
    "            \n",
    "            attweight = torch.exp(-((self.attention_ctr[0]-self.RF_X[rf])**2 + (self.attention_ctr[1]-self.RF_Y[rf])**2)\n",
    "                                  /(2*self.ROI_attention_field_sigma)**2)\n",
    "            attweight =  self.ROI_attention_field_gain * attweight + 1\n",
    "            numerator[rf] = torch.multiply(stimdrive,attweight)\n",
    "        \n",
    "        for rfsuppind in range(0, len(self.RF_X)):\n",
    "            rf_supp_sigma = rf_sigma[rfsuppind] * self.suppression_sigma_scale_factor\n",
    "            distance = torch.sqrt((self.X-self.RF_X[rfsuppind])**2+(self.Y-self.RF_Y[rfsuppind])**2) \n",
    "            suppfield = torch.exp(-.5*(distance/(rf_supp_sigma))**2)\n",
    "            suppfield = suppfield / torch.sum(suppfield)\n",
    "            flatsurr = torch.flatten(suppfield)\n",
    "            surroundresponse[rfsuppind] = torch.dot(flatsurr,numerator)\n",
    "        \n",
    "        # it will give you\n",
    "        # whichever the two is larger, to prevent the large numbers as the output\n",
    "        #if surroundresponse +  self.ROI_normalization_sigma_factor < 1e-6:\n",
    "        #    print(\"Clipping the denominator (original value: %f)\" %(surroundresponse +  self.ROI_normalization_sigma_factor))\n",
    "\n",
    "        denominator = torch.clip(surroundresponse +  self.ROI_normalization_sigma_factor, 1e-6) \n",
    "        predneuralweights = numerator / denominator\n",
    "\n",
    "        for rfsumm in range(0, len(self.RF_X)):\n",
    "            rf_summ_sigma =  rf_sigma[rfsumm] * self.ROI_summation_sigma_scale_factor\n",
    "            distance = torch.sqrt((self.X-self.RF_X[rfsumm])**2 +(self.Y-self.RF_Y[rfsumm])**2);\n",
    "            summfield = torch.exp(-.5*(distance/(rf_summ_sigma))**2)\n",
    "            summfield = summfield / torch.sum(summfield)\n",
    "            flatsumm = torch.flatten(summfield)\n",
    "            spsummedresponse[rfsumm] = torch.dot(flatsumm,predneuralweights)\n",
    "        \n",
    "        predicted_response = spsummedresponse[voxel_lookup_indices] \n",
    "        \n",
    "        return numerator, surroundresponse, predneuralweights, spsummedresponse, predicted_response"
   ]
  },
  {
   "cell_type": "code",
   "execution_count": 23,
   "id": "47a51e0b",
   "metadata": {},
   "outputs": [],
   "source": [
    "stimpath = '/Volumes/server/Projects/attentionpRF/Simulations/python_scripts/stimfiles'\n",
    "stim_ecc = 12\n",
    "stimtemp = scipy.io.loadmat(stimpath + '/stim.mat')\n",
    "stimtemp = torch.from_numpy(stimtemp['stim']).to(torch.float32)\n",
    "stimorig = stimtemp[:,:,0:48]\n",
    "\n",
    "gridsize = 32\n",
    "input_stim = prepare_stimulus(stimorig, gridsize)\n",
    "x_coordinates, y_coordinates, X, Y = create_spatial_grid(stim_ecc, gridsize)\n",
    "lookup_prf_centers = create_prf_centers_torch(x_coordinates, y_coordinates)\n",
    "\n",
    "\n"
   ]
  },
  {
   "cell_type": "code",
   "execution_count": 30,
   "id": "12fb57de",
   "metadata": {},
   "outputs": [],
   "source": [
    "# take a subset of pRFs that tile the diagonal axis of the visual field. This is\n",
    "# to check how the suppressive surround differs when it is defined across a small subset of \n",
    "# pRFs \n",
    "synt_voxeldata = torch.empty((2, gridsize))\n",
    "for k in range(0,gridsize):\n",
    "    synt_voxeldata[:,k] = lookup_prf_centers[:,gridsize*k+k]\n",
    "\n"
   ]
  },
  {
   "cell_type": "code",
   "execution_count": 48,
   "id": "02df8f17",
   "metadata": {},
   "outputs": [],
   "source": [
    "distance_vector, voxel_lookup_indices = interpolate_voxel_center(X, Y, synt_voxeldata)"
   ]
  },
  {
   "cell_type": "code",
   "execution_count": 10,
   "id": "41478ec4",
   "metadata": {},
   "outputs": [],
   "source": [
    "attention_ctr = (0,5)\n",
    "normalization_sigma = 0.01\n",
    "stim = input_stim[:,:,6]\n",
    "\n"
   ]
  },
  {
   "cell_type": "code",
   "execution_count": 49,
   "id": "f087435d",
   "metadata": {},
   "outputs": [],
   "source": [
    "nma = NormalizationModelofAttention(normalization_sigma, lookup_prf_centers, synt_voxeldata, attention_ctr, gridsize)\n",
    "numerator, surroundresponse, neuralresponse, populationresponse, pred_response = nma(voxel_lookup_indices, stim)\n",
    "\n",
    "\n",
    "numerator = numerator.detach().numpy()\n",
    "surroundresponse = surroundresponse.detach().numpy()\n",
    "neuralresponse = neuralresponse.detach().numpy()\n",
    "populationresponse = populationresponse.detach().numpy()\n",
    "\n",
    "\n"
   ]
  },
  {
   "cell_type": "code",
   "execution_count": 50,
   "id": "20866d45",
   "metadata": {
    "pycharm": {
     "name": "#%%\n"
    },
    "scrolled": true
   },
   "outputs": [
    {
     "data": {
      "image/png": "[encoded data removed]",
      "text/plain": [
       "<Figure size 1584x1584 with 4 Axes>"
      ]
     },
     "metadata": {
      "needs_background": "light"
     },
     "output_type": "display_data"
    }
   ],
   "source": [
    "fig, (ax1, ax2, ax3, ax4) = plt.subplots(1, 4, figsize=[22,22])\n",
    "ax1.imshow(np.reshape(numerator,(gridsize,gridsize)), cmap = 'Purples')\n",
    "ax1.set_title('Stimulus drive under attention')\n",
    "ax2.imshow(np.reshape(surroundresponse,(gridsize,gridsize)), cmap = 'Purples')\n",
    "ax2.set_title('Suppressive drive under attention')\n",
    "ax3.imshow(np.reshape(neuralresponse,(gridsize,gridsize)), cmap = 'Purples')\n",
    "ax3.set_title('Normalized population response before summation')\n",
    "ax4.imshow(np.reshape(populationresponse,(gridsize,gridsize)), cmap = 'Purples')\n",
    "ax4.set_title('Normalized population response after summation');"
   ]
  },
  {
   "cell_type": "markdown",
   "id": "ae00762d",
   "metadata": {
    "pycharm": {
     "name": "#%% md\n"
    }
   },
   "source": [
    "Now define the objective function to optimize the beta weights predicted by normalization model. It *feels* like it will do it over all the voxels."
   ]
  },
  {
   "cell_type": "code",
   "execution_count": null,
   "id": "9964fdf0",
   "metadata": {
    "pycharm": {
     "name": "#%%\n"
    }
   },
   "outputs": [],
   "source": [
    "def obj_function(measured_response, predicted_nma_response):\n",
    "    return torch.sum(torch.square(measured_response-predicted_nma_response))"
   ]
  },
  {
   "cell_type": "markdown",
   "id": "1d84a6b9",
   "metadata": {
    "pycharm": {
     "name": "#%% md\n"
    }
   },
   "source": [
    "Construct the optimizer:"
   ]
  },
  {
   "cell_type": "code",
   "execution_count": null,
   "id": "65360573",
   "metadata": {
    "pycharm": {
     "name": "#%%\n"
    }
   },
   "outputs": [],
   "source": [
    "optimizer = torch.optim.Adam([nma.voxel_gain, # estimated per voxel\n",
    "                              nma.ROI_pRF_sigma_scale_factor, # estimated for the ROI ? slope\n",
    "                              nma.ROI_attention_field_sigma, #  estimated for the ROI\n",
    "                              nma.ROI_attention_field_gain, #  estimated for the ROI\n",
    "                              nma.suppression_sigma_scale_factor, #estimated per voxel? not sure if we will change\n",
    "                              nma.ROI_summation_sigma_scale_factor],  # estimated for the ROI\n",
    "                              lr=1e-3)\n",
    "\n"
   ]
  },
  {
   "cell_type": "markdown",
   "id": "cbd49044",
   "metadata": {
    "pycharm": {
     "name": "#%% md\n"
    }
   },
   "source": [
    "Load the simulated pRF centers and the beta weights predicting their beta estimates across attention conditions. Ground truth values to be written down (I'm not sure of most of these, so I will need to simulate a new dataset soon)\n",
    "\n",
    "voxel_gain = 1, uniform in this dataset\n",
    "ROI_pRF_sigma_scale_factor = 0.02\n",
    "ROI_attention_field_sigma  = 1.5?\n",
    "ROI_attention_field_gain  = This was set larger for the UVM,\n",
    "voxel_suppression_sigma_scale_factor = 3\n",
    "ROI_normalization_sigma_factor = 0.1\n",
    "ROI_summation_sigma_scale_factor = 4?"
   ]
  },
  {
   "cell_type": "code",
   "execution_count": null,
   "id": "cbf358ae",
   "metadata": {},
   "outputs": [],
   "source": [
    "list(nma.parameters())\n",
    "\n"
   ]
  },
  {
   "cell_type": "code",
   "execution_count": null,
   "id": "f9d65d3d",
   "metadata": {
    "scrolled": true
   },
   "outputs": [],
   "source": [
    "for param, val in nma.named_parameters():\n",
    "    print(param, val.clone().detach())\n",
    "    \n",
    "    \n",
    "    "
   ]
  },
  {
   "cell_type": "code",
   "execution_count": null,
   "id": "16fc35ac",
   "metadata": {},
   "outputs": [],
   "source": [
    "# load the simulated data and the pRF centers for the simulated data \n",
    "\n",
    "measured_response_simulated = np.load('predicted_response.npy', mmap_mode=None, allow_pickle=False, fix_imports=True, encoding='ASCII')\n",
    "voxeldata_simulated = np.load('simulated_prf_centers.npy', mmap_mode=None, allow_pickle=False, fix_imports=True, encoding='ASCII')\n",
    "\n"
   ]
  },
  {
   "cell_type": "code",
   "execution_count": null,
   "id": "74f6311a",
   "metadata": {
    "pycharm": {
     "name": "#%%\n"
    }
   },
   "outputs": [],
   "source": [
    "# use the fitted RFs for now to recover the parameters\n",
    "#simulateddatapath = '/Volumes/server/Projects/attentionpRF/Simulations/simulatedData'\n",
    "#stimdrivenrfs = scipy.io.loadmat(simulateddatapath + '/fittedRFs_subset.mat')\n",
    "#neutralRFs = torch.from_numpy(stimdrivenrfs['RF_subset']).to(torch.float32)\n",
    "\n",
    "\n",
    "# load the attention data for these RFs:\n",
    "#simulateddatapath = '/Volumes/server/Projects/attentionpRF/Simulations/matlab_scripts/fitData'\n",
    "#simulatedbetaweights = scipy.io.loadmat(simulateddatapath + '/simulateddata_subset.mat')\n",
    "#simulatedbetaweights = torch.from_numpy(simulatedbetaweights['datatofit_subset']).to(torch.float32)\n",
    "\n",
    "\n",
    "\n"
   ]
  },
  {
   "cell_type": "code",
   "execution_count": null,
   "id": "777c6d8f",
   "metadata": {},
   "outputs": [],
   "source": [
    "nma_try = NormalizationModelofAttention(normalization_sigma, lookup_prf_centers, voxeldata_simulated, attention_ctr, gridsize)\n",
    "numerator, surroundresponse, neuralresponse, populationresponse, pred_response = nma_try(stim)\n",
    "\n",
    "\n"
   ]
  },
  {
   "cell_type": "code",
   "execution_count": null,
   "id": "61a91e01",
   "metadata": {
    "pycharm": {
     "name": "#%%\n"
    }
   },
   "outputs": [],
   "source": [
    "losses = []\n",
    "parameters = []\n",
    "pbar = tqdm(range(1000))\n",
    "for i in pbar\n",
    "    predicted_nma_response = nma(input_stim)\n",
    "    loss = obj_function(measured_response_simulated, predicted_nma_response)\n",
    "    optimizer.zero_grad() # resetting the calculated gradients\n",
    "    loss.backward() # this computes the gradient\n",
    "    optimizer.step()\n",
    "    losses.append(loss.item())\n",
    "    param_vals.append(nma.)\n"
   ]
  },
  {
   "cell_type": "code",
   "execution_count": null,
   "id": "b4129178",
   "metadata": {
    "pycharm": {
     "name": "#%%\n"
    }
   },
   "outputs": [],
   "source": []
  },
  {
   "cell_type": "code",
   "execution_count": null,
   "id": "3ed9115b",
   "metadata": {},
   "outputs": [],
   "source": []
  },
  {
   "cell_type": "code",
   "execution_count": null,
   "id": "3adfdc59",
   "metadata": {},
   "outputs": [],
   "source": []
  },
  {
   "cell_type": "code",
   "execution_count": null,
   "id": "9079add0",
   "metadata": {},
   "outputs": [],
   "source": []
  },
  {
   "cell_type": "code",
   "execution_count": null,
   "id": "ebc8fa48",
   "metadata": {},
   "outputs": [],
   "source": [
    "numerator_try = torch.empty(gridsize*gridsize)\n",
    "for rfidx in range(0,gridsize*gridsize):\n",
    "    pRF = flat_gaussian_field(X,Y,lookup_prf_centers[0,rfidx],lookup_prf_centers[1,rfidx],0.7, True, True)\n",
    "    stimtry = input_stim[...,12] # the index refers to the last dimension\n",
    "    stimtry = stimtry.flatten()\n",
    "    numerator_try[rfidx] = torch.dot(pRF, stimtry)\n",
    "    \n",
    "    \n",
    "    \n",
    "    \n",
    "pRF3D = torch.empty((gridsize, gridsize, gridsize*gridsize))\n",
    "numerator_try_3d = torch.empty(gridsize*gridsize)\n",
    "\n",
    "for rfidx in range(0,gridsize*gridsize):\n",
    "    pRF3D[:,:,rfidx] = flat_gaussian_field(X,Y,lookup_prf_centers[0,rfidx],lookup_prf_centers[1,rfidx],0.7, True, False)\n",
    "    \n",
    "    print(torch.einsum('ijk,ij->k', pRF3D, input_stim[...,1]))\n",
    " "
   ]
  },
  {
   "cell_type": "code",
   "execution_count": null,
   "id": "83f2ea13",
   "metadata": {},
   "outputs": [],
   "source": [
    "print(torch.einsum('ijk,ija->ka', pRF3D, stimtry))\n",
    "\n"
   ]
  }
 ],
 "metadata": {
  "kernelspec": {
   "display_name": "Python 3 (ipykernel)",
   "language": "python",
   "name": "python3"
  },
  "language_info": {
   "codemirror_mode": {
    "name": "ipython",
    "version": 3
   },
   "file_extension": ".py",
   "mimetype": "text/x-python",
   "name": "python",
   "nbconvert_exporter": "python",
   "pygments_lexer": "ipython3",
   "version": "3.8.5"
  }
 },
 "nbformat": 4,
 "nbformat_minor": 5
}
