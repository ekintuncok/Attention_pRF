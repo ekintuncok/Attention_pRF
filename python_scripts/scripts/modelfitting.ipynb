{
 "cells": [
  {
   "cell_type": "code",
   "execution_count": 150,
   "id": "26f877c3",
   "metadata": {
    "pycharm": {
     "name": "#%%\n"
    }
   },
   "outputs": [],
   "source": [
    "import numpy as np\n",
    "import scipy.io\n",
    "import matplotlib.pyplot as plt\n",
    "import torch\n",
    "from sklearn.linear_model import LinearRegression\n",
    "from tqdm import tqdm\n"
   ]
  },
  {
   "cell_type": "code",
   "execution_count": 151,
   "id": "78e434ec",
   "metadata": {
    "pycharm": {
     "name": "#%%\n"
    }
   },
   "outputs": [],
   "source": [
    "def create_spatial_grid_torch(stim, stim_ecc, gridsize):\n",
    "    coord = np.sqrt(((stim_ecc)**2)/2)\n",
    "    grid = torch.linspace(-coord,coord,gridsize)\n",
    "    Y,X = torch.meshgrid(grid, grid)\n",
    "    Y = -1*Y\n",
    "    (s1, s2) = (stim.shape[0] // X.shape[0]+1, stim.shape[1] // X.shape[0]+1)\n",
    "    input_stim = stim[::s1,::s2]\n",
    "    return input_stim, X, Y"
   ]
  },
  {
   "cell_type": "code",
   "execution_count": 152,
   "id": "1fd45b75",
   "metadata": {
    "pycharm": {
     "name": "#%%\n"
    }
   },
   "outputs": [],
   "source": [
    "def flat_gaussian_field_torch(X,Y,x,y,sigma,gain,normalize):\n",
    "    gaussian = gain*(torch.exp(-((X-x)**2 +(Y-y)**2)/(2*sigma)**2))\n",
    "    if normalize: # this normalizes the Gaussian field to the unit volume before flattening it\n",
    "        gaussian = gaussian/torch.sum(gaussian)\n",
    "    return gaussian.flatten()"
   ]
  },
  {
   "cell_type": "code",
   "execution_count": 153,
   "id": "bc4f5bf7",
   "metadata": {
    "pycharm": {
     "name": "#%%\n"
    }
   },
   "outputs": [],
   "source": [
    "def create_prf_params(n_voxels, stim_ecc, X, Y):  \n",
    "    coord = np.sqrt(((stim_ecc)**2)/2)\n",
    "    nCenters = int(np.sqrt(n_voxels))\n",
    "    x = -1*np.linspace(-coord, coord, nCenters)\n",
    "    y = np.linspace(-coord, coord, nCenters)\n",
    "    prf_parameters = np.zeros((4,n_voxels))\n",
    "    sigma = np.zeros((n_voxels))\n",
    "    gain = np.zeros((n_voxels))\n",
    "\n",
    "    iter_idx = 0\n",
    "    for i in range(0,len(x)):\n",
    "        for j in range(0,len(y)):\n",
    "            prf_parameters[0,iter_idx] = x[i] \n",
    "            prf_parameters[1,iter_idx] = y[j]\n",
    "            prf_parameters[2,iter_idx] = 0.05 + 0.2*(np.sqrt(x[i]**2 +  y[j]**2)) # sigma\n",
    "            prf_parameters[3,iter_idx] = 1 # assume uniform voxel gain for simplicity\n",
    "            iter_idx = iter_idx + 1 \n",
    "\n",
    "    return prf_parameters"
   ]
  },
  {
   "cell_type": "code",
   "execution_count": 160,
   "id": "c99cd9ea",
   "metadata": {
    "pycharm": {
     "name": "#%%\n"
    }
   },
   "outputs": [],
   "source": [
    "class AttModel(torch.nn.Module):\n",
    "    def __init__(self,  prf_parameters, n_voxels=4096, gridsize=64, stim_ecc=12, attention_ctr=(0,8)):\n",
    "        \"\"\"\n",
    "        \"\"\"\n",
    "        super().__init__()\n",
    "        self.simulated_prfs = prf_parameters\n",
    "        self.attention_ctr = attention_ctr\n",
    "        self.n_voxels = n_voxels\n",
    "        coord = np.sqrt(((stim_ecc)**2)/2)\n",
    "        grid = torch.linspace(-coord, coord, gridsize)\n",
    "        self.Y, self.X = torch.meshgrid(grid, grid)\n",
    "        self.Y = -1* self.Y\n",
    "\n",
    "        self.voxel_gain = torch.nn.Parameter(torch.rand(1, n_voxels, dtype=torch.float32))\n",
    "        self.attention_sigma = torch.nn.Parameter(torch.rand(1, dtype=torch.float32))\n",
    "        self.attention_gain = torch.nn.Parameter(torch.rand(1, dtype=torch.float32))\n",
    "        self.suppression_sigma_scale_factor = torch.nn.Parameter(torch.rand(1, n_voxels, dtype=torch.float32))\n",
    "        self.summation_sigma_scale_factor = torch.nn.Parameter(torch.rand(1, dtype=torch.float32))\n",
    "        self.normalization_sigma_factor = torch.nn.Parameter(torch.rand(1, dtype=torch.float32))\n",
    "        \n",
    "    def forward(self, stim):\n",
    "        \"\"\"\n",
    "        \"\"\"\n",
    "\n",
    "        stimdrive = torch.empty(self.n_voxels)\n",
    "        numerator = torch.empty(self.n_voxels)\n",
    "        surroundresponse = torch.empty(self.n_voxels)\n",
    "        spsummedresponse = torch.empty(self.n_voxels)\n",
    "        \n",
    "        for rf in range(self.n_voxels):\n",
    "            RF = flat_gaussian_field_torch(self.X, self.Y, self.simulated_prfs[1,rf], self.simulated_prfs[0,rf],\n",
    "                                           self.simulated_prfs[2,rf], self.voxel_gain[:,rf], True)\n",
    "            stim = stim.flatten()\n",
    "            stimdrive[rf] = torch.dot(RF, stim)\n",
    "            attweight = torch.exp(-((self.attention_ctr[0]-self.simulated_prfs[1,rf])**2\n",
    "                                     + (self.attention_ctr[1]-self.simulated_prfs[0,rf])**2)/(2*self.attention_sigma)**2)\n",
    "            attweight =  self.attention_gain*attweight+1\n",
    "            numerator[rf] = torch.multiply(stimdrive[rf],attweight)\n",
    "        \n",
    "        for rfsupp in range(self.n_voxels):\n",
    "            distance = torch.sqrt((self.X-self.simulated_prfs[1, rfsupp])**2\n",
    "                                  + (self.Y-self.simulated_prfs[0,rfsupp])**2)\n",
    "            suppfield = torch.exp(-.5*(distance/(self.simulated_prfs[2,rfsupp]*self.suppression_sigma_scale_factor[:,rfsupp]))**2)\n",
    "            suppfield = suppfield / torch.sum(suppfield)\n",
    "            flatsurr = suppfield.flatten()\n",
    "            surroundresponse[rfsupp] = torch.dot(flatsurr,numerator)\n",
    "            \n",
    "        predneuralweights = numerator/(surroundresponse + self.normalization_sigma_factor)\n",
    "\n",
    "        for rfsumm in range(self.n_voxels):\n",
    "            distance = torch.sqrt((self.X-self.simulated_prfs[1,rfsumm])**2\n",
    "                                  +(self.Y-self.simulated_prfs[0,rfsumm])**2);\n",
    "            summfield = torch.exp(-.5*(distance/(self.simulated_prfs[2,rfsumm]*self.summation_sigma_scale_factor))**2)\n",
    "            summfield = summfield / torch.sum(summfield)\n",
    "            flatsumm = summfield.flatten()\n",
    "            spsummedresponse[rfsumm] = torch.dot(flatsumm,predneuralweights)\n",
    "    \n",
    "        return stimdrive, numerator, predneuralweights, spsummedresponse"
   ]
  },
  {
   "cell_type": "code",
   "execution_count": 171,
   "id": "3b7fff9c",
   "metadata": {
    "pycharm": {
     "name": "#%%\n"
    }
   },
   "outputs": [],
   "source": [
    "stimpath = '/Volumes/server/Projects/attentionpRF/Simulations/python_scripts/stimfiles'\n",
    "stim_ecc = 12\n",
    "stimtemp = scipy.io.loadmat(stimpath + '/stim.mat')\n",
    "stimtemp = torch.from_numpy(stimtemp['stim']).to(torch.float32)\n",
    "stimorig = stimtemp[:,:,36]\n",
    "#stimorig = stimorig[::1080//64, ::1080//64]\n",
    "#stimorig = stimorig[:64, :64]\n",
    "input_stim, X, Y = create_spatial_grid_torch(stimorig, stim_ecc, 64)\n",
    "prf_parameters = create_prf_params(input_stim.shape[0]*input_stim.shape[0], stim_ecc, X, Y)"
   ]
  },
  {
   "cell_type": "code",
   "execution_count": 172,
   "outputs": [
    {
     "data": {
      "text/plain": "<matplotlib.image.AxesImage at 0x7f95386dc6d0>"
     },
     "execution_count": 172,
     "metadata": {},
     "output_type": "execute_result"
    },
    {
     "data": {
      "text/plain": "<Figure size 432x288 with 1 Axes>",
      "image/png": "[encoded data removed]"
     },
     "metadata": {
      "needs_background": "light"
     },
     "output_type": "display_data"
    }
   ],
   "source": [
    "plt.imshow(input_stim)"
   ],
   "metadata": {
    "collapsed": false,
    "pycharm": {
     "name": "#%%\n"
    }
   }
  },
  {
   "cell_type": "code",
   "execution_count": 173,
   "id": "93ede674",
   "metadata": {
    "pycharm": {
     "name": "#%%\n"
    }
   },
   "outputs": [],
   "source": [
    "nma = AttModel(prf_parameters)\n",
    "stimdrive, numerator, neuralresponse, populationresponse = nma(input_stim)"
   ]
  },
  {
   "cell_type": "code",
   "execution_count": 174,
   "id": "0f486016",
   "metadata": {
    "pycharm": {
     "name": "#%%\n"
    }
   },
   "outputs": [],
   "source": [
    "stimdrive = stimdrive.detach().numpy()\n",
    "numerator = numerator.detach().numpy()\n",
    "populationresponse = populationresponse.detach().numpy()\n",
    "neuralresponse = neuralresponse.detach().numpy()"
   ]
  },
  {
   "cell_type": "code",
   "execution_count": 175,
   "outputs": [
    {
     "data": {
      "text/plain": "<matplotlib.image.AxesImage at 0x7f957867ecd0>"
     },
     "execution_count": 175,
     "metadata": {},
     "output_type": "execute_result"
    },
    {
     "data": {
      "text/plain": "<Figure size 720x720 with 4 Axes>",
      "image/png": "[encoded data removed]"
     },
     "metadata": {
      "needs_background": "light"
     },
     "output_type": "display_data"
    }
   ],
   "source": [
    "fig, (ax1, ax2, ax3, ax4) = plt.subplots(1, 4, figsize=[10,10])\n",
    "ax1.imshow(np.reshape(stimdrive,(64,64)))\n",
    "ax2.imshow(np.reshape(numerator,(64,64)))\n",
    "ax3.imshow(np.reshape(neuralresponse,(64,64)))\n",
    "ax4.imshow(np.reshape(populationresponse,(64,64)))"
   ],
   "metadata": {
    "collapsed": false,
    "pycharm": {
     "name": "#%%\n"
    }
   }
  },
  {
   "cell_type": "markdown",
   "source": [
    "Now define the objective function to optimize the beta weights predicted by normalization model. It *feels* like it will do it over all the voxels."
   ],
   "metadata": {
    "collapsed": false,
    "pycharm": {
     "name": "#%% md\n"
    }
   }
  },
  {
   "cell_type": "code",
   "execution_count": 125,
   "outputs": [],
   "source": [
    "def obj_function(measured_response, predicted_nma_response):\n",
    "    model = LinearRegression()\n",
    "    model.fit(predicted_nma_response, measured_response)\n",
    "    prediction = model.predict(predicted_nma_response)\n",
    "    residualsumsq = torch.sum(torch.square(prediction-predicted_nma_response))\n",
    "    return residualsumsq"
   ],
   "metadata": {
    "collapsed": false,
    "pycharm": {
     "name": "#%%\n"
    }
   }
  },
  {
   "cell_type": "code",
   "execution_count": 126,
   "outputs": [],
   "source": [
    "optimizer = torch.optim.Adam([nma.voxel_gain, # estimated per voxel\n",
    "                              nma.attention_sigma, # estimated for the ROI (?) as in, across all voxels\n",
    "                              nma.attention_gain, # 1 estimate\n",
    "                              nma.suppression_sigma_scale_factor, # estimated per voxel? not sure if we will change\n",
    "                              nma.summation_sigma_scale_factor, # estimated per ROI\n",
    "                              nma.normalization_sigma_factor], # probably estimated per ROI\n",
    "                              lr=1e-3)"
   ],
   "metadata": {
    "collapsed": false,
    "pycharm": {
     "name": "#%%\n"
    }
   }
  },
  {
   "cell_type": "code",
   "execution_count": 127,
   "outputs": [],
   "source": [
    "# use the fitted RFs for now to recover the parameters\n",
    "simulateddatapath = '/Volumes/server/Projects/attentionpRF/Simulations/simulatedData'\n",
    "stimdrivenrfs = scipy.io.loadmat(simulateddatapath + '/fittedRFs_subset.mat')\n",
    "neutralRFs = torch.from_numpy(stimdrivenrfs['RF_subset']).to(torch.float32)\n",
    "# load the attention data for these RFs:\n",
    "simulateddatapath = '/Volumes/server/Projects/attentionpRF/Simulations/matlab_scripts/fitData'\n",
    "simulatedbetaweights = scipy.io.loadmat(simulateddatapath + '/simulateddata_subset.mat')\n",
    "simulatedbetaweights = torch.from_numpy(simulatedbetaweights['datatofit_subset']).to(torch.float32)"
   ],
   "metadata": {
    "collapsed": false,
    "pycharm": {
     "name": "#%%\n"
    }
   }
  },
  {
   "cell_type": "code",
   "execution_count": null,
   "outputs": [],
   "source": [
    "losses = []\n",
    "parameters = []\n",
    "pbar = tqdm(range(1000))\n",
    "for i in pbar\n",
    "    predicted_nma_response =\n"
   ],
   "metadata": {
    "collapsed": false,
    "pycharm": {
     "name": "#%%\n"
    }
   }
  },
  {
   "cell_type": "code",
   "execution_count": null,
   "outputs": [],
   "source": [],
   "metadata": {
    "collapsed": false,
    "pycharm": {
     "name": "#%%\n"
    }
   }
  }
 ],
 "metadata": {
  "kernelspec": {
   "display_name": "Python 3 (ipykernel)",
   "language": "python",
   "name": "python3"
  },
  "language_info": {
   "codemirror_mode": {
    "name": "ipython",
    "version": 3
   },
   "file_extension": ".py",
   "mimetype": "text/x-python",
   "name": "python",
   "nbconvert_exporter": "python",
   "pygments_lexer": "ipython3",
   "version": "3.8.5"
  }
 },
 "nbformat": 4,
 "nbformat_minor": 5
}