{
 "cells": [
  {
   "cell_type": "code",
   "execution_count": 15,
   "id": "101f4241",
   "metadata": {
    "pycharm": {
     "name": "#%%\n"
    }
   },
   "outputs": [],
   "source": [
    "import numpy as np\n",
    "import math\n",
    "import scipy.io\n",
    "import os\n",
    "import matplotlib.pyplot as plt\n",
    "from scipy.io import loadmat\n",
    "import ipywidgets as widgets\n",
    "from mpl_toolkits.axes_grid1 import make_axes_locatable\n"
   ]
  },
  {
   "cell_type": "code",
   "execution_count": 2,
   "id": "5175eff8",
   "metadata": {
    "pycharm": {
     "name": "#%%\n"
    }
   },
   "outputs": [],
   "source": [
    "def create_spatial_grid(stim_ecc, gridsize):\n",
    "    \"\"\"This function samples the visual space for a given eccentricity coverage and gridsize. \n",
    "    The x and y coordinate outputs arethen used for creating the pRF parameters (see create_prf_params function). \n",
    "    NMA is strictly implemented for a formulated space, so the model will only work \n",
    "    if the receptive fields are defined within the same grid as the input stimulus. \"\"\"\n",
    "    \n",
    "    coord = np.sqrt(((stim_ecc)**2)/2)\n",
    "    x_coordinates = np.linspace(-coord, coord, gridsize)\n",
    "    y_coordinates = np.linspace(coord, -coord, gridsize)\n",
    "    X, Y = np.meshgrid(x_coordinates, y_coordinates)\n",
    "        \n",
    "    return x_coordinates, y_coordinates, X, Y"
   ]
  },
  {
   "cell_type": "code",
   "execution_count": 3,
   "id": "caba3338",
   "metadata": {
    "pycharm": {
     "name": "#%%\n"
    }
   },
   "outputs": [],
   "source": [
    "def reshape_stimulus(stim, gridsize):\n",
    "    \n",
    "    # There does not seem to be a better way to resize a matrix image in Python. The following \n",
    "    # code snippet uses 1D interpolation across columns and rows separately, and resizes the original stimulus\n",
    "    # input to the desired grid size \n",
    "    old_dim, new_dim = stim.shape[0], gridsize\n",
    "    col_im = np.zeros((new_dim,old_dim))\n",
    "    input_stim = np.zeros((new_dim,new_dim,stimorig.shape[2]))\n",
    "    nls, ols = np.linspace(0, 1, new_dim), np.linspace(0,1,old_dim)\n",
    "\n",
    "    for stimidx in range(0, stimorig.shape[2]):\n",
    "        for col in range(old_dim):\n",
    "            col_im[:,col] = np.interp(nls,ols,stimorig[:,col,stimidx])\n",
    "        for col in range(new_dim):\n",
    "            input_stim[col,:, stimidx] = np.interp(nls,ols,col_im[col,:])\n",
    "        \n",
    "    return input_stim"
   ]
  },
  {
   "cell_type": "code",
   "execution_count": 4,
   "id": "01d2cf3a",
   "metadata": {
    "pycharm": {
     "name": "#%%\n"
    }
   },
   "outputs": [],
   "source": [
    "def create_prf_centers(x_coordinates, y_coordinates):\n",
    "    \n",
    "    prf_parameters = np.zeros((2,len(x_coordinates)*len(y_coordinates)))\n",
    "    iter_idx = 0\n",
    "    for i in range(0,len(y_coordinates)):\n",
    "        for j in range(0,len(x_coordinates)):\n",
    "            prf_parameters[0,iter_idx] = x_coordinates[j] \n",
    "            prf_parameters[1,iter_idx] = y_coordinates[i]\n",
    "            #if sigmascaling == 'eccentric':\n",
    "            #    prf_parameters[2,iter_idx] = 0.05 + 0.2*(np.sqrt(x_coordinates[i]**2 +  y_coordinates[j]**2)) # sigma\n",
    "            #elif sigmascaling == 'convolutional':\n",
    "            #    prf_parameters[2,iter_idx] = 0.05\n",
    "            #prf_parameters[3,iter_idx] = 1 # assume uniform voxel gain for simplicity\n",
    "            iter_idx = iter_idx + 1 \n",
    "\n",
    "    return prf_parameters"
   ]
  },
  {
   "cell_type": "code",
   "execution_count": 89,
   "id": "85a8a873",
   "metadata": {
    "pycharm": {
     "name": "#%%\n"
    }
   },
   "outputs": [],
   "source": [
    "def create_gaussian_field(x_grid, y_grid, x, y, sigma, type = None, normalize= True, flat = True):\n",
    "    \"\"\"Creates a 2D Gaussian for the given X and Y center and the sigma factor.\n",
    "    Has the option to 1) normalize the Gaussian field to the unit volume and\n",
    "    2) flatten the Gaussian (vectorize it)\"\"\"\n",
    "\n",
    "    gaussian = np.exp(-((x_grid-x)**2 +(y_grid-y)**2)/(2*sigma)**2)\n",
    "\n",
    "    if type == 'euclidean_distance':\n",
    "        gaussian = np.exp(-np.sqrt(((x_grid-x)**2 +(y_grid-y)**2))/(2*sigma)**2)\n",
    "    if normalize:\n",
    "        gaussian = gaussian/np.linalg.norm(gaussian)\n",
    "    if flat:\n",
    "        gaussian = gaussian.flatten()\n",
    "\n",
    "    return gaussian\n"
   ]
  },
  {
   "cell_type": "code",
   "execution_count": 60,
   "id": "a967be21",
   "metadata": {
    "pycharm": {
     "name": "#%%\n"
    }
   },
   "outputs": [],
   "source": [
    "def normalization_model(input_stim, stim_ecc, gridsize, lookup_prf_centers, voxeldata, rf_sigma_factor, attx0, atty0, attsd, attgain, suppWeight, summWeight, sigmaNorm):\n",
    "    \n",
    "    ##\n",
    "    ###### preallocate #####\n",
    "    lookup_prfs = np.zeros((gridsize*gridsize, gridsize*gridsize))\n",
    "    stimdrive    = np.zeros((len(lookup_prf_centers[1]),len(input_stim[1,1,:])))\n",
    "    numerator = np.zeros((len(lookup_prf_centers[1]),len(input_stim[1,1,:])))\n",
    "    surroundresponse = np.zeros((len(lookup_prf_centers[1]),len(input_stim[1,1,:])))\n",
    "    spsummedresponse = np.zeros((len(lookup_prf_centers[1]),len(input_stim[1,1,:])))\n",
    "    predicted_response = np.zeros((voxeldata.shape[1],len(input_stim[1,1,:])))\n",
    "    ###### preallocate #####\n",
    "    ##\n",
    "    \n",
    "    flatten = lambda x: np.reshape(x, (gridsize*gridsize))\n",
    "    \n",
    "    # NMA: \n",
    "    \n",
    "    \n",
    "    # Instead of fitting a size to each pRF, we decided to optimize a slope to define pRF sizes within each ROI,\n",
    "    # leveraging the linear relationship between pRF eccentricity and size:\n",
    "    rf_sigma = 0.07 + rf_sigma_factor*(np.sqrt(lookup_prf_centers[0,:]**2 + lookup_prf_centers[1,:]**2))\n",
    "    \n",
    "    X, Y = create_spatial_grid(stim_ecc, gridsize)[2:4]\n",
    "    \n",
    "    # Simulate pRFs \n",
    "    for rf in range(0,lookup_prf_centers.shape[1]):\n",
    "        lookup_prfs[:,rf] = flat_gaussian_field(X,Y,lookup_prf_centers[0,rf],lookup_prf_centers[1,rf],rf_sigma[rf], True)\n",
    "        \n",
    "    \n",
    "    for stimidx in range(0,len(input_stim[1,1,:])):\n",
    "        for rf in range(0,len(lookup_prfs[1])):\n",
    "            RF = lookup_prfs[:,rf]\n",
    "            stim = input_stim[:,:,stimidx]\n",
    "            stim = flatten(stim)\n",
    "            stimdrive[rf,stimidx] = np.dot(RF,stim)\n",
    "            attweight = np.exp(-((attx0-lookup_prf_centers[0,rf])**2 +(atty0-lookup_prf_centers[1,rf])**2)/(2*attsd)**2)\n",
    "            attweight = attgain*attweight+1\n",
    "            numerator[rf,stimidx] = np.multiply(stimdrive[rf,stimidx],attweight)\n",
    "            \n",
    "        for rfsuppind in range(0,len(lookup_prfs[1])):\n",
    "            rf_supp_sigma = rf_sigma[rfsuppind] * suppWeight\n",
    "            distance = np.sqrt((X-lookup_prf_centers[0,rfsuppind])**2+(Y-lookup_prf_centers[1,rfsuppind])**2)           \n",
    "            suppfield = np.exp(-.5*(distance/(rf_supp_sigma))**2)\n",
    "            \n",
    "            suppfield = suppfield / np.linalg.norm(suppfield)\n",
    "            flatsurr = flatten(suppfield)\n",
    "            \n",
    "            surroundresponse[rfsuppind,stimidx] = np.dot(flatsurr,numerator[:,stimidx])\n",
    "        print(\"Calculated the estimated response for stimulus %i of %i\" %(stimidx, len(input_stim[1,1,:])))\n",
    "\n",
    "\n",
    "    predneuralweights = numerator/(surroundresponse + sigmaNorm)\n",
    "\n",
    "    for stimidx in range(0,len(input_stim[1,1,:])):\n",
    "        for summidx in range(0,len(lookup_prfs[1])):\n",
    "            rf_summ_sigma = rf_sigma[rfsuppind] * summWeight\n",
    "            distance = np.sqrt((X-lookup_prf_centers[0,summidx])**2+(Y-lookup_prf_centers[1,summidx])**2);\n",
    "            summfield = np.exp(-.5*(distance/(rf_summ_sigma))**2)\n",
    "            \n",
    "            summfield = summfield / np.linalg.norm(summfield)\n",
    "            flatsumm = flatten(summfield)\n",
    "            \n",
    "            spsummedresponse[summidx,stimidx] = np.dot(flatsumm,predneuralweights[:,stimidx])\n",
    "        print(\"Calculated the spatial summation for stimulus %i of %i\" %(stimidx, len(input_stim[1,1,:])))\n",
    "\n",
    "    #spsummedresponse = spsummedresponse / np.linalg.norm(summfield)\n",
    " \n",
    "    for idx in range(0,voxeldata.shape[1]):\n",
    "        distance_vector = np.sqrt((voxeldata[0, idx] - lookup_prf_centers[0,:])**2 + \n",
    "                                     (voxeldata[1, idx]- lookup_prf_centers[1,:])**2)\n",
    "        closest_point_idx = np.argmin(np.abs(distance_vector))\n",
    "        predicted_response[idx,:] = spsummedresponse[closest_point_idx,:]          \n",
    "    \n",
    "    return numerator, surroundresponse, predneuralweights, spsummedresponse, predicted_response"
   ]
  },
  {
   "cell_type": "code",
   "execution_count": 60,
   "outputs": [],
   "source": [],
   "metadata": {
    "collapsed": false,
    "pycharm": {
     "name": "#%%\n"
    }
   }
  },
  {
   "cell_type": "markdown",
   "id": "6972bebe",
   "metadata": {
    "pycharm": {
     "name": "#%% md\n"
    }
   },
   "source": [
    "The model will first produce a predicted neural image for a population of neurons whose receptive fields tile the visual space perfectly. This is crucial because the calculation of a suppressive surround for each receptive field depends on what is surrounding that receptive field. Therefore, creating a look up table with the assumption that the visual space is indeed tiled perfectly (in spite of the imperfections of pRF estimates for certain locations in the visual field) we can estimate the responses of different voxels by finding a center location in the look up table that matches that voxel's center preference the best. This requires some changes in the model organization:\n",
    "\n",
    "1) Create a visual field grid by sampling the space finely (at the moment 64x64, vista soft uses a 101x101 grid)\n",
    "\n",
    "2) Simulate the responses of the pixelated RFs to 48 mapping stimulus locations under 4 attention locations (192 estimates of beta weights per RF)\n",
    "\n",
    "3) Feed the voxel data to the model, for each voxel, match the preferred center to a location in the tiled responses by finding the minimum distance between a given voxel's center and various points in the tiled visual space\n",
    "\n",
    "4) The output of the model will be a matrix in the size of N x 192 (N: number of voxels)"
   ]
  },
  {
   "cell_type": "code",
   "execution_count": 61,
   "id": "aacf9466",
   "metadata": {
    "pycharm": {
     "name": "#%%\n"
    }
   },
   "outputs": [],
   "source": [
    "# load the stimulus\n",
    "stimpath = '/Volumes/server/Projects/attentionpRF/Simulations/matlab_scripts/stimfiles'\n",
    "stim_ecc = 10\n",
    "gridsize = 64\n",
    "\n",
    "stimtemp = scipy.io.loadmat(stimpath + '/stim.mat')\n",
    "stimtemp = stimtemp['stim']\n",
    "stimorig = stimtemp[:,:,0:48]\n",
    "\n",
    "#### \n",
    "\n"
   ]
  },
  {
   "cell_type": "code",
   "execution_count": 62,
   "id": "4c287d49",
   "metadata": {
    "pycharm": {
     "name": "#%%\n"
    }
   },
   "outputs": [],
   "source": [
    "input_stim = reshape_stimulus(stimorig, gridsize)"
   ]
  },
  {
   "cell_type": "code",
   "execution_count": 63,
   "id": "945be1e6",
   "metadata": {
    "pycharm": {
     "name": "#%%\n"
    }
   },
   "outputs": [],
   "source": [
    "x_coordinates, y_coordinates, X, Y = create_spatial_grid(stim_ecc, gridsize)"
   ]
  },
  {
   "cell_type": "code",
   "execution_count": 64,
   "id": "291ec613",
   "metadata": {
    "pycharm": {
     "name": "#%%\n"
    }
   },
   "outputs": [],
   "source": [
    "lookup_prf_centers = create_prf_centers(x_coordinates, y_coordinates)"
   ]
  },
  {
   "cell_type": "code",
   "execution_count": 65,
   "id": "48dbf091",
   "metadata": {
    "pycharm": {
     "name": "#%%\n"
    }
   },
   "outputs": [],
   "source": [
    "# take a subset of pRFs that tile the diagonal axis of the visual field. This is\n",
    "# to check how the suppressive surround differs when it is defined across a small subset of \n",
    "# pRFs \n",
    "synt_voxeldata = np.zeros((2, gridsize))\n",
    "\n",
    "for k in range(0,gridsize):\n",
    "    synt_voxeldata[:,k] = lookup_prf_centers[:,gridsize*k+k]\n"
   ]
  },
  {
   "cell_type": "code",
   "execution_count": 66,
   "id": "3401e2b5",
   "metadata": {
    "pycharm": {
     "name": "#%%\n"
    },
    "scrolled": true
   },
   "outputs": [
    {
     "name": "stdout",
     "output_type": "stream",
     "text": [
      "Calculated the estimated response for stimulus 0 of 48\n",
      "Calculated the estimated response for stimulus 1 of 48\n",
      "Calculated the estimated response for stimulus 2 of 48\n",
      "Calculated the estimated response for stimulus 3 of 48\n",
      "Calculated the estimated response for stimulus 4 of 48\n",
      "Calculated the estimated response for stimulus 5 of 48\n",
      "Calculated the estimated response for stimulus 6 of 48\n",
      "Calculated the estimated response for stimulus 7 of 48\n",
      "Calculated the estimated response for stimulus 8 of 48\n",
      "Calculated the estimated response for stimulus 9 of 48\n",
      "Calculated the estimated response for stimulus 10 of 48\n",
      "Calculated the estimated response for stimulus 11 of 48\n",
      "Calculated the estimated response for stimulus 12 of 48\n",
      "Calculated the estimated response for stimulus 13 of 48\n",
      "Calculated the estimated response for stimulus 14 of 48\n",
      "Calculated the estimated response for stimulus 15 of 48\n",
      "Calculated the estimated response for stimulus 16 of 48\n",
      "Calculated the estimated response for stimulus 17 of 48\n",
      "Calculated the estimated response for stimulus 18 of 48\n",
      "Calculated the estimated response for stimulus 19 of 48\n",
      "Calculated the estimated response for stimulus 20 of 48\n",
      "Calculated the estimated response for stimulus 21 of 48\n",
      "Calculated the estimated response for stimulus 22 of 48\n",
      "Calculated the estimated response for stimulus 23 of 48\n",
      "Calculated the estimated response for stimulus 24 of 48\n",
      "Calculated the estimated response for stimulus 25 of 48\n",
      "Calculated the estimated response for stimulus 26 of 48\n",
      "Calculated the estimated response for stimulus 27 of 48\n",
      "Calculated the estimated response for stimulus 28 of 48\n",
      "Calculated the estimated response for stimulus 29 of 48\n",
      "Calculated the estimated response for stimulus 30 of 48\n",
      "Calculated the estimated response for stimulus 31 of 48\n",
      "Calculated the estimated response for stimulus 32 of 48\n",
      "Calculated the estimated response for stimulus 33 of 48\n",
      "Calculated the estimated response for stimulus 34 of 48\n",
      "Calculated the estimated response for stimulus 35 of 48\n",
      "Calculated the estimated response for stimulus 36 of 48\n",
      "Calculated the estimated response for stimulus 37 of 48\n",
      "Calculated the estimated response for stimulus 38 of 48\n",
      "Calculated the estimated response for stimulus 39 of 48\n",
      "Calculated the estimated response for stimulus 40 of 48\n",
      "Calculated the estimated response for stimulus 41 of 48\n",
      "Calculated the estimated response for stimulus 42 of 48\n",
      "Calculated the estimated response for stimulus 43 of 48\n",
      "Calculated the estimated response for stimulus 44 of 48\n",
      "Calculated the estimated response for stimulus 45 of 48\n",
      "Calculated the estimated response for stimulus 46 of 48\n",
      "Calculated the estimated response for stimulus 47 of 48\n",
      "Calculated the spatial summation for stimulus 0 of 48\n",
      "Calculated the spatial summation for stimulus 1 of 48\n",
      "Calculated the spatial summation for stimulus 2 of 48\n",
      "Calculated the spatial summation for stimulus 3 of 48\n",
      "Calculated the spatial summation for stimulus 4 of 48\n",
      "Calculated the spatial summation for stimulus 5 of 48\n",
      "Calculated the spatial summation for stimulus 6 of 48\n",
      "Calculated the spatial summation for stimulus 7 of 48\n",
      "Calculated the spatial summation for stimulus 8 of 48\n",
      "Calculated the spatial summation for stimulus 9 of 48\n",
      "Calculated the spatial summation for stimulus 10 of 48\n",
      "Calculated the spatial summation for stimulus 11 of 48\n",
      "Calculated the spatial summation for stimulus 12 of 48\n",
      "Calculated the spatial summation for stimulus 13 of 48\n",
      "Calculated the spatial summation for stimulus 14 of 48\n",
      "Calculated the spatial summation for stimulus 15 of 48\n",
      "Calculated the spatial summation for stimulus 16 of 48\n",
      "Calculated the spatial summation for stimulus 17 of 48\n",
      "Calculated the spatial summation for stimulus 18 of 48\n",
      "Calculated the spatial summation for stimulus 19 of 48\n",
      "Calculated the spatial summation for stimulus 20 of 48\n",
      "Calculated the spatial summation for stimulus 21 of 48\n",
      "Calculated the spatial summation for stimulus 22 of 48\n",
      "Calculated the spatial summation for stimulus 23 of 48\n",
      "Calculated the spatial summation for stimulus 24 of 48\n",
      "Calculated the spatial summation for stimulus 25 of 48\n",
      "Calculated the spatial summation for stimulus 26 of 48\n",
      "Calculated the spatial summation for stimulus 27 of 48\n",
      "Calculated the spatial summation for stimulus 28 of 48\n",
      "Calculated the spatial summation for stimulus 29 of 48\n",
      "Calculated the spatial summation for stimulus 30 of 48\n",
      "Calculated the spatial summation for stimulus 31 of 48\n",
      "Calculated the spatial summation for stimulus 32 of 48\n",
      "Calculated the spatial summation for stimulus 33 of 48\n",
      "Calculated the spatial summation for stimulus 34 of 48\n",
      "Calculated the spatial summation for stimulus 35 of 48\n",
      "Calculated the spatial summation for stimulus 36 of 48\n",
      "Calculated the spatial summation for stimulus 37 of 48\n",
      "Calculated the spatial summation for stimulus 38 of 48\n",
      "Calculated the spatial summation for stimulus 39 of 48\n",
      "Calculated the spatial summation for stimulus 40 of 48\n",
      "Calculated the spatial summation for stimulus 41 of 48\n",
      "Calculated the spatial summation for stimulus 42 of 48\n",
      "Calculated the spatial summation for stimulus 43 of 48\n",
      "Calculated the spatial summation for stimulus 44 of 48\n",
      "Calculated the spatial summation for stimulus 45 of 48\n",
      "Calculated the spatial summation for stimulus 46 of 48\n",
      "Calculated the spatial summation for stimulus 47 of 48\n"
     ]
    }
   ],
   "source": [
    "rf_sigma_factor = 0.05\n",
    "attgain     = 4\n",
    "attx0       = 0\n",
    "atty0       = 5\n",
    "attsd       = 1\n",
    "sigmaNorm   = 0.01\n",
    "suppWeight  = 3\n",
    "summWeight  = 3\n",
    "\n",
    "numerator, surroundresponse, predneuralweights, spsummedresponse, predicted_response = normalization_model(input_stim, stim_ecc, gridsize, lookup_prf_centers, synt_voxeldata, rf_sigma_factor, attx0, atty0, attsd, attgain, suppWeight, summWeight, sigmaNorm)"
   ]
  },
  {
   "cell_type": "code",
   "execution_count": 151,
   "outputs": [
    {
     "data": {
      "text/plain": "<Figure size 1584x1584 with 8 Axes>",
      "image/png": "[encoded data removed]"
     },
     "metadata": {
      "needs_background": "light"
     },
     "output_type": "display_data"
    }
   ],
   "source": [
    "### VISUALIZE\n",
    "stimidx = 36\n",
    "numerator_toplot = np.reshape(numerator[:,stimidx],(gridsize,gridsize))\n",
    "surroundresponse_toplot = np.reshape(surroundresponse[:,stimidx],(gridsize,gridsize))\n",
    "neuralresponse_toplot = np.reshape(predneuralweights[:,stimidx],(gridsize,gridsize))\n",
    "populationresponse_toplot = np.reshape(spsummedresponse[:,stimidx],(gridsize,gridsize))\n",
    "\n",
    "colorm = 'cool'\n",
    "fig, (ax1, ax2, ax3, ax4) = plt.subplots(4,1, figsize=[22,22])\n",
    "im1 = ax1.imshow(numerator_toplot, cmap = colorm)\n",
    "ax1.set_title('Stimulus drive under attention')\n",
    "divider = make_axes_locatable(ax1)\n",
    "cax1 = divider.append_axes(\"right\", size=\"10%\", pad=0.05)\n",
    "cbar4 = plt.colorbar(im1, cax=cax1)\n",
    "\n",
    "im2 = ax2.imshow(surroundresponse_toplot, cmap = colorm)\n",
    "ax2.set_title('Suppressive drive under attention')\n",
    "divider = make_axes_locatable(ax2)\n",
    "cax2 = divider.append_axes(\"right\", size=\"10%\", pad=0.05)\n",
    "cbar4 = plt.colorbar(im2, cax=cax2)\n",
    "\n",
    "im3 = ax3.imshow(neuralresponse_toplot ,cmap = colorm)\n",
    "ax3.set_title('Normalized population response before summation')\n",
    "divider = make_axes_locatable(ax3)\n",
    "cax3 = divider.append_axes(\"right\", size=\"10%\", pad=0.05)\n",
    "cbar4 = plt.colorbar(im3, cax=cax3)\n",
    "\n",
    "im4 = ax4.imshow(populationresponse_toplot,cmap = colorm)\n",
    "ax4.set_title('Normalized population response after summation');\n",
    "divider = make_axes_locatable(ax4)\n",
    "cax4 = divider.append_axes(\"right\", size=\"10%\", pad=0.05)\n",
    "cbar4 = plt.colorbar(im4, cax=cax4)"
   ],
   "metadata": {
    "collapsed": false,
    "pycharm": {
     "name": "#%%\n"
    }
   }
  },
  {
   "cell_type": "code",
   "execution_count": 84,
   "outputs": [],
   "source": [
    "A = torch.rand(4096,4096)"
   ],
   "metadata": {
    "collapsed": false,
    "pycharm": {
     "name": "#%%\n"
    }
   }
  },
  {
   "cell_type": "code",
   "execution_count": 85,
   "outputs": [],
   "source": [
    "B = torch.rand(4096,48)\n",
    "#surroundresponse[rfsuppind,stimidx] = np.dot(flatsurr,numerator[:,stimidx])\n",
    "arr_dotprod = torch.empty((4096, 48))\n",
    "for stimidx in range(0,48):\n",
    "    for rfidx in range(0,4096):\n",
    "        arr_dotprod[rfidx,stimidx] = torch.dot(A[:,rfidx],B[:,stimidx])\n",
    "arr_ein = torch.einsum('wi,ik->wk', A.T, B)"
   ],
   "metadata": {
    "collapsed": false,
    "pycharm": {
     "name": "#%%\n"
    }
   }
  },
  {
   "cell_type": "code",
   "execution_count": 86,
   "outputs": [
    {
     "data": {
      "text/plain": "[<matplotlib.lines.Line2D at 0x7f8069e17070>]"
     },
     "execution_count": 86,
     "metadata": {},
     "output_type": "execute_result"
    },
    {
     "data": {
      "text/plain": "<Figure size 432x288 with 1 Axes>",
      "image/png": "[encoded data removed]"
     },
     "metadata": {
      "needs_background": "light"
     },
     "output_type": "display_data"
    }
   ],
   "source": [
    "plt.plot(arr_ein[1,:])"
   ],
   "metadata": {
    "collapsed": false,
    "pycharm": {
     "name": "#%%\n"
    }
   }
  },
  {
   "cell_type": "code",
   "execution_count": 87,
   "outputs": [
    {
     "data": {
      "text/plain": "[<matplotlib.lines.Line2D at 0x7f806a2d8910>]"
     },
     "execution_count": 87,
     "metadata": {},
     "output_type": "execute_result"
    },
    {
     "data": {
      "text/plain": "<Figure size 432x288 with 1 Axes>",
      "image/png": "[encoded data removed]"
     },
     "metadata": {
      "needs_background": "light"
     },
     "output_type": "display_data"
    }
   ],
   "source": [
    "plt.plot(arr_dotprod[1,:])"
   ],
   "metadata": {
    "collapsed": false,
    "pycharm": {
     "name": "#%%\n"
    }
   }
  },
  {
   "cell_type": "code",
   "execution_count": null,
   "outputs": [],
   "source": [],
   "metadata": {
    "collapsed": false,
    "pycharm": {
     "name": "#%%\n"
    }
   }
  },
  {
   "cell_type": "code",
   "execution_count": 13,
   "id": "b3235c3d",
   "metadata": {
    "pycharm": {
     "name": "#%%\n"
    },
    "scrolled": false
   },
   "outputs": [
    {
     "data": {
      "application/vnd.jupyter.widget-view+json": {
       "model_id": "6f72db25ed5b4a1f907851946b1390fc",
       "version_major": 2,
       "version_minor": 0
      },
      "text/plain": [
       "interactive(children=(IntSlider(value=0, description='stimuluslocation', max=47), Output()), _dom_classes=('wi…"
      ]
     },
     "metadata": {},
     "output_type": "display_data"
    }
   ],
   "source": [
    "spsummedresponse_image = np.reshape(spsummedresponse, (gridsize, gridsize, spsummedresponse.shape[1]))\n",
    "predneuralweights_image = np.reshape(predneuralweights, (gridsize, gridsize, predneuralweights.shape[1]))\n",
    "simulated_surround_img = np.reshape(surroundresponse, (gridsize, gridsize, predneuralweights.shape[1]))\n",
    "numImg = np.reshape(numerator, (gridsize, gridsize, predneuralweights.shape[1]))\n",
    "#predicted_response_img = np.reshape(predicted_response, (gridsize, gridsize, predneuralweights.shape[1]))\n",
    "\n",
    "clim = [0, 30]\n",
    "@widgets.interact(stimuluslocation=widgets.IntSlider(min=0, max=predneuralweights_image.shape[2]-1, step=1, value=0))\n",
    "def plot_populationresponse(stimuluslocation):\n",
    "    fig, (ax1, ax2) = plt.subplots(1, 2, figsize=[10,10])\n",
    "    ax1.imshow(numImg[:,:,stimuluslocation], clim = clim, cmap='Blues')\n",
    "    ax1.set_title('numerator')\n",
    "    ax2.imshow(simulated_surround_img[:,:,stimuluslocation],clim = clim,cmap='Blues')\n",
    "    ax2.set_title('suppressive drive')"
   ]
  },
  {
   "cell_type": "code",
   "execution_count": 21,
   "id": "5851501c",
   "metadata": {
    "pycharm": {
     "name": "#%%\n"
    },
    "scrolled": false
   },
   "outputs": [
    {
     "data": {
      "application/vnd.jupyter.widget-view+json": {
       "model_id": "76bc99535ab24efabad33454dced2bf6",
       "version_major": 2,
       "version_minor": 0
      },
      "text/plain": [
       "interactive(children=(IntSlider(value=0, description='stimuluslocation', max=47), Output()), _dom_classes=('wi…"
      ]
     },
     "metadata": {},
     "output_type": "display_data"
    }
   ],
   "source": [
    "# visualize\n",
    "clim2 = [0, 2]\n",
    "\n",
    "@widgets.interact(stimuluslocation=widgets.IntSlider(min=0, max=predneuralweights_image.shape[2]-1, step=1, value=0))\n",
    "def plot_populationresponse(stimuluslocation):\n",
    "    fig, (ax1, ax2) = plt.subplots(1, 2, figsize=[10,10])\n",
    "    ax1.imshow(predneuralweights_image[:,:,stimuluslocation], clim = clim2, cmap='Blues')\n",
    "    ax1.set_title('Predicted neural responses before summation')\n",
    "    ax2.imshow(spsummedresponse_image[:,:,stimuluslocation],  clim = clim2,cmap='Blues')\n",
    "    ax2.set_title('Predicted neural responses after summation')\n"
   ]
  },
  {
   "cell_type": "code",
   "execution_count": 22,
   "id": "76a19b14",
   "metadata": {
    "pycharm": {
     "name": "#%%\n"
    }
   },
   "outputs": [
    {
     "data": {
      "application/vnd.jupyter.widget-view+json": {
       "model_id": "6cd267d407074118a286e88866374e63",
       "version_major": 2,
       "version_minor": 0
      },
      "text/plain": [
       "interactive(children=(IntSlider(value=109, description='rf', max=1023, min=109), Output()), _dom_classes=('wid…"
      ]
     },
     "metadata": {},
     "output_type": "display_data"
    }
   ],
   "source": [
    "@widgets.interact(rf=widgets.IntSlider(min=109, max=predneuralweights.shape[0]-1, step=1, value=0))\n",
    "def plot_populationresponse(rf):\n",
    "    plt.plot(predneuralweights[rf,:])\n",
    "    plt.plot(spsummedresponse[rf,:])\n",
    "    plt.legend(['before summation', 'after summation'])\n",
    "\n"
   ]
  },
  {
   "cell_type": "code",
   "execution_count": 20,
   "id": "9e5bcfc1",
   "metadata": {
    "pycharm": {
     "name": "#%%\n"
    }
   },
   "outputs": [],
   "source": [
    "# Save the simulated data and pRF centers\n",
    "np.save('predicted_response', predicted_response, allow_pickle=True, fix_imports=True)\n",
    "np.save('simulated_prf_centers', synt_voxeldata, allow_pickle=True, fix_imports=True)\n",
    "\n",
    "\n"
   ]
  },
  {
   "cell_type": "code",
   "execution_count": null,
   "outputs": [],
   "source": [],
   "metadata": {
    "collapsed": false,
    "pycharm": {
     "name": "#%%\n"
    }
   }
  },
  {
   "cell_type": "code",
   "execution_count": null,
   "outputs": [],
   "source": [],
   "metadata": {
    "collapsed": false,
    "pycharm": {
     "name": "#%%\n"
    }
   }
  },
  {
   "cell_type": "code",
   "execution_count": null,
   "outputs": [],
   "source": [],
   "metadata": {
    "collapsed": false,
    "pycharm": {
     "name": "#%%\n"
    }
   }
  },
  {
   "cell_type": "code",
   "execution_count": 77,
   "outputs": [
    {
     "data": {
      "text/plain": "(2, 4096)"
     },
     "execution_count": 77,
     "metadata": {},
     "output_type": "execute_result"
    }
   ],
   "source": [
    "lookup_prf_centers"
   ],
   "metadata": {
    "collapsed": false,
    "pycharm": {
     "name": "#%%\n"
    }
   }
  },
  {
   "cell_type": "code",
   "execution_count": 125,
   "outputs": [],
   "source": [
    "rfids = np.arange(0, 64*64)\n",
    "gaussian_supp = np.empty((64*64, len(rfids)))\n",
    "gaussian_rf = np.empty((64, 64, len(rfids)))\n",
    "\n",
    "for i, rf in enumerate(rfids):\n",
    "    gaussian_rf[...,i] =  create_gaussian_field(X, Y, lookup_prf_centers[0, rf], lookup_prf_centers[1,rf], 1, 'euclidean_distance', True,False)\n",
    "    gaussian_supp[...,i] = create_gaussian_field(X, Y, lookup_prf_centers[0, rf], lookup_prf_centers[1,rf], 2, 'euclidean_distance', True,True)"
   ],
   "metadata": {
    "collapsed": false,
    "pycharm": {
     "name": "#%%\n"
    }
   }
  },
  {
   "cell_type": "code",
   "execution_count": 135,
   "outputs": [
    {
     "name": "stdout",
     "output_type": "stream",
     "text": [
      "[3.68583006 3.73390046 3.79393853 ... 4.15459133 4.09148356 4.04129179]\n"
     ]
    }
   ],
   "source": [
    "numerator_dotprod = np.empty(len(rfids))\n",
    "for i in range(0,len(rfids)):\n",
    "    numerator_dotprod[i] = np.dot(np.reshape(gaussian_rf[:,:,i], (64*64)), np.reshape(input_stim[:,:,12], (64*64)))\n",
    "print(numerator_dotprod)"
   ],
   "metadata": {
    "collapsed": false,
    "pycharm": {
     "name": "#%%\n"
    }
   }
  },
  {
   "cell_type": "code",
   "execution_count": 137,
   "outputs": [
    {
     "name": "stdout",
     "output_type": "stream",
     "text": [
      "[413.37533575 413.60193824 413.86854674 ... 418.42401177 418.22999267\n",
      " 418.07176397]\n"
     ]
    }
   ],
   "source": [
    "response = np.empty(len(rfids))\n",
    "for i in range(0,len(rfids)):\n",
    "    response[i] = np.dot(gaussian_supp[:,i],numerator_dotprod)\n",
    "print(response)"
   ],
   "metadata": {
    "collapsed": false,
    "pycharm": {
     "name": "#%%\n"
    }
   }
  },
  {
   "cell_type": "code",
   "execution_count": 141,
   "outputs": [
    {
     "name": "stdout",
     "output_type": "stream",
     "text": [
      "[413.37533575 413.60193824 413.86854674 ... 418.42401177 418.22999267\n",
      " 418.07176397]\n"
     ]
    }
   ],
   "source": [
    "response_einsum = np.einsum('wi,ik->wk', gaussian_supp.T, numerator_einsum)\n",
    "print(response_einsum[:,12])"
   ],
   "metadata": {
    "collapsed": false,
    "pycharm": {
     "name": "#%%\n"
    }
   }
  },
  {
   "cell_type": "code",
   "execution_count": 128,
   "outputs": [],
   "source": [
    "numerator_einsum = np.einsum('ijk,ija->ka', gaussian_rf, input_stim)"
   ],
   "metadata": {
    "collapsed": false,
    "pycharm": {
     "name": "#%%\n"
    }
   }
  },
  {
   "cell_type": "code",
   "execution_count": 142,
   "outputs": [
    {
     "data": {
      "text/plain": "(4096, 48)"
     },
     "execution_count": 142,
     "metadata": {},
     "output_type": "execute_result"
    }
   ],
   "source": [
    "response_einsum.shape"
   ],
   "metadata": {
    "collapsed": false,
    "pycharm": {
     "name": "#%%\n"
    }
   }
  },
  {
   "cell_type": "code",
   "execution_count": 129,
   "outputs": [
    {
     "data": {
      "text/plain": "(4096, 48)"
     },
     "execution_count": 129,
     "metadata": {},
     "output_type": "execute_result"
    }
   ],
   "source": [
    "numerator_einsum.shape"
   ],
   "metadata": {
    "collapsed": false,
    "pycharm": {
     "name": "#%%\n"
    }
   }
  },
  {
   "cell_type": "code",
   "execution_count": 133,
   "outputs": [
    {
     "data": {
      "text/plain": "array([3.68583006e+00, 3.73390046e+00, 3.79393853e+00, ...,\n       3.86592014e-03, 2.24903574e-03, 1.27584428e-03])"
     },
     "execution_count": 133,
     "metadata": {},
     "output_type": "execute_result"
    }
   ],
   "source": [
    "numerator_dotprod"
   ],
   "metadata": {
    "collapsed": false,
    "pycharm": {
     "name": "#%%\n"
    }
   }
  },
  {
   "cell_type": "code",
   "execution_count": 149,
   "outputs": [
    {
     "data": {
      "text/plain": "<matplotlib.colorbar.Colorbar at 0x7f807a0b9b50>"
     },
     "execution_count": 149,
     "metadata": {},
     "output_type": "execute_result"
    },
    {
     "data": {
      "text/plain": "<Figure size 432x288 with 2 Axes>",
      "image/png": "[encoded data removed]"
     },
     "metadata": {
      "needs_background": "light"
     },
     "output_type": "display_data"
    },
    {
     "data": {
      "text/plain": "<Figure size 432x288 with 2 Axes>",
      "image/png": "[encoded data removed]"
     },
     "metadata": {
      "needs_background": "light"
     },
     "output_type": "display_data"
    }
   ],
   "source": [
    "plt.figure()\n",
    "plt.imshow(np.reshape(response, (64,64)))\n",
    "plt.colorbar()\n",
    "plt.figure()\n",
    "plt.imshow(np.reshape(response_einsum[:,12], (64,64)))\n",
    "plt.colorbar()\n"
   ],
   "metadata": {
    "collapsed": false,
    "pycharm": {
     "name": "#%%\n"
    }
   }
  },
  {
   "cell_type": "code",
   "execution_count": 147,
   "outputs": [
    {
     "data": {
      "text/plain": "(4096, 48)"
     },
     "execution_count": 147,
     "metadata": {},
     "output_type": "execute_result"
    }
   ],
   "source": [
    "response_einsum.shape"
   ],
   "metadata": {
    "collapsed": false,
    "pycharm": {
     "name": "#%%\n"
    }
   }
  },
  {
   "cell_type": "code",
   "execution_count": null,
   "outputs": [],
   "source": [],
   "metadata": {
    "collapsed": false,
    "pycharm": {
     "name": "#%%\n"
    }
   }
  }
 ],
 "metadata": {
  "kernelspec": {
   "display_name": "Python 3 (ipykernel)",
   "language": "python",
   "name": "python3"
  },
  "language_info": {
   "codemirror_mode": {
    "name": "ipython",
    "version": 3
   },
   "file_extension": ".py",
   "mimetype": "text/x-python",
   "name": "python",
   "nbconvert_exporter": "python",
   "pygments_lexer": "ipython3",
   "version": "3.8.5"
  },
  "widgets": {
   "application/vnd.jupyter.widget-state+json": {
    "state": {},
    "version_major": 2,
    "version_minor": 0
   }
  }
 },
 "nbformat": 4,
 "nbformat_minor": 5
}