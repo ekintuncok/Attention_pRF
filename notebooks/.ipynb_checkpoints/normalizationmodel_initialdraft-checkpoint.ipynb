{
 "cells": [
  {
   "cell_type": "code",
   "execution_count": 23,
   "id": "7628e4cf",
   "metadata": {
    "pycharm": {
     "name": "#%%\n"
    }
   },
   "outputs": [],
   "source": [
    "import numpy as np\n",
    "import math\n",
    "import scipy.io\n",
    "import os\n",
    "import matplotlib.pyplot as plt\n",
    "from scipy.io import loadmat\n",
    "import ipywidgets as widgets\n",
    "import torch"
   ]
  },
  {
   "cell_type": "code",
   "execution_count": 24,
   "id": "df3f99ef",
   "metadata": {
    "pycharm": {
     "name": "#%%\n"
    }
   },
   "outputs": [],
   "source": [
    "def create_spatial_grid(stim, stim_ecc, gridsize):\n",
    "    ecc = np.linspace(-stim_ecc,stim_ecc,gridsize)\n",
    "    Y, X = np.meshgrid(ecc, ecc, indexing='ij')\n",
    "    Y = -1*Y\n",
    "    (s1, s2) = (stim.shape[0] // X.shape[0]+1, stim.shape[1] // X.shape[0]+1)\n",
    "    input_stim = stim[::s1,::s2]\n",
    "    return input_stim, X, Y"
   ]
  },
  {
   "cell_type": "code",
   "execution_count": 25,
   "id": "d1c8e145",
   "metadata": {
    "pycharm": {
     "name": "#%%\n"
    }
   },
   "outputs": [],
   "source": [
    "def flat_gaussian_field(X,Y,x,y,sigma,gain,normalize):\n",
    "    gaussian = gain*np.exp(-((X-x)**2 +(Y-y)**2)/(2*sigma)**2)\n",
    "    gaussian =  np.reshape(gaussian, (len(X)*len(X)))\n",
    "    if normalize: # this normalizes the Gaussian field to the unit volume before flattening it\n",
    "        gaussian = gaussian/np.linalg.norm(gaussian)\n",
    "    return gaussian"
   ]
  },
  {
   "cell_type": "code",
   "execution_count": 26,
   "id": "a69180d5",
   "metadata": {
    "pycharm": {
     "name": "#%%\n"
    }
   },
   "outputs": [],
   "source": [
    "def create_prf_params(n_voxels, stim_ecc, X, Y, sigmascaling):\n",
    "    coord = np.sqrt(((stim_ecc)**2)/2)\n",
    "    nCenters = int(np.sqrt(n_voxels))\n",
    "    x = -1*np.linspace(-coord, coord, nCenters)\n",
    "    y = np.linspace(-coord, coord, nCenters)\n",
    "    prf_parameters = np.zeros((4,n_voxels))\n",
    "    sigma = np.zeros((n_voxels))\n",
    "    gain = np.zeros((n_voxels))\n",
    "\n",
    "    iter_idx = 0\n",
    "    for i in range(0,len(x)):\n",
    "        for j in range(0,len(y)):\n",
    "            prf_parameters[0,iter_idx] = x[i] \n",
    "            prf_parameters[1,iter_idx] = y[j]\n",
    "            if sigmascaling == 'eccentric':\n",
    "                prf_parameters[2,iter_idx] = 0.05 + 0.2*(np.sqrt(x[i]**2 +  y[j]**2)) # sigma\n",
    "            elif sigmascaling == 'convolutional':\n",
    "                prf_parameters[2,iter_idx] = 0.05\n",
    "            prf_parameters[3,iter_idx] = 1 # assume uniform voxel gain for simplicity\n",
    "            iter_idx = iter_idx + 1 \n",
    "\n",
    "    return prf_parameters"
   ]
  },
  {
   "cell_type": "code",
   "execution_count": 44,
   "id": "ccbc578c",
   "metadata": {
    "pycharm": {
     "name": "#%%\n"
    }
   },
   "outputs": [],
   "source": [
    "def simulate_normalization_model(stimpath, stim_ecc, attx0, atty0, attsd, attgain, suppWeight, summWeight, sigmaNorm, gridsize):\n",
    "\n",
    "    # load the stimulus\n",
    "    stimtemp = scipy.io.loadmat(stimpath + '/stim.mat')\n",
    "    stimtemp = stimtemp['stim']\n",
    "    stimorig = stimtemp[:,:,0:48]\n",
    "\n",
    "    input_stim, X, Y = create_spatial_grid(stimorig, stim_ecc, gridsize)\n",
    "    stim = np.reshape(input_stim, (gridsize*gridsize, input_stim.shape[2]))\n",
    "        # set the anonymous functions for spatial transformations:\n",
    "    flatten = lambda x: np.reshape(x, (gridsize*gridsize))\n",
    "    unflatten = lambda x: np.reshape(x, (gridsize,gridsize,stimorig.shape[2]))\n",
    "\n",
    "        # simulation specific part \n",
    "    nCenters = len(input_stim[0])\n",
    "    prf_parameters = create_prf_params(nCenters*nCenters, stim_ecc, X, Y, 'eccentric')\n",
    "\n",
    "    simulated_prfs = np.zeros((nCenters*nCenters, nCenters*nCenters))\n",
    "    for rf in range(0,nCenters*nCenters):\n",
    "        simulated_prfs[:,rf] = flat_gaussian_field(X,Y,prf_parameters[1,rf],prf_parameters[0,rf],prf_parameters[2,rf], prf_parameters[3,rf], True)\n",
    "\n",
    "    # preallocate\n",
    "    stimdrive    = np.zeros((len(simulated_prfs[1]),len(input_stim[1,1,:])))\n",
    "    numerator = np.zeros((len(simulated_prfs[1]),len(input_stim[1,1,:])))\n",
    "    surroundresponse = np.zeros((len(simulated_prfs[1]),len(input_stim[1,1,:])))\n",
    "\n",
    "    for stimidx in range(0,len(input_stim[1,1,:])):\n",
    "        for rf in range(0,len(simulated_prfs[1])):\n",
    "            RF = simulated_prfs[:,rf]\n",
    "            stim = input_stim[:,:,stimidx]\n",
    "            stim = flatten(stim)\n",
    "            stimdrive[rf,stimidx] = np.dot(RF,stim)\n",
    "            attweight = np.exp(-((attx0-prf_parameters[1,rf])**2 +(atty0-prf_parameters[0,rf])**2)/(2*attsd)**2)\n",
    "            attweight = attgain*attweight+1\n",
    "            numerator[rf,stimidx] = np.multiply(stimdrive[rf,stimidx],attweight)\n",
    "        \n",
    "        for rfsuppind in range(0,len(simulated_prfs[1])):\n",
    "            distance = np.sqrt((X-prf_parameters[1,rfsuppind])**2+(Y-prf_parameters[0,rfsuppind])**2) \n",
    "            # distance is the distance of the center of a given pRF from other pRFs here. This is because each pixel\n",
    "            # in our image, defined within our meshgrid (X,Y) represents a pRF. Jon last week raised a potential issue\n",
    "            # here where the 'imperfections' of the pRF coverage will distort the calculations. Let's say there are fewer\n",
    "            # pRFs surrounding a given pRF. If we replace the X and Y variables of this metric by the center preference\n",
    "            # of these voxels, a voxel whose pRF is not surrounded by many other pRFs will have 'empty holes'. This will\n",
    "            # distort the calculation of the suppressive surround. \n",
    "            \n",
    "            suppfield = np.exp(-.5*(distance/(prf_parameters[2,rfsuppind]*suppWeight))**2)\n",
    "            suppfield = suppfield / np.linalg.norm(suppfield)\n",
    "            flatsurr = flatten(suppfield)\n",
    "            surroundresponse[rfsuppind,stimidx] = np.dot(np.transpose(flatsurr),numerator[:,stimidx])\n",
    "\n",
    "    predneuralweights = numerator/(surroundresponse + sigmaNorm)\n",
    "    predneuralweights = predneuralweights/np.linalg.norm(predneuralweights)\n",
    "    spsummedresponse = np.zeros((len(prf_parameters[1]),len(input_stim[1,1,:])))\n",
    "\n",
    "    for stimidx in range(0,len(input_stim[1,1,:])):\n",
    "        for summidx in range(0,len(simulated_prfs[1])):\n",
    "            distance = np.sqrt((X-prf_parameters[1,summidx])**2+(Y-prf_parameters[0,summidx])**2);\n",
    "            summfield = np.exp(-.5*(distance/(prf_parameters[2,summidx]*summWeight))**2)\n",
    "            summfield = summfield / np.linalg.norm(summfield)\n",
    "            flatsumm = flatten(summfield)\n",
    "            spsummedresponse[summidx,stimidx] = np.dot(np.transpose(flatsumm),predneuralweights[:,stimidx])\n",
    "\n",
    "    return prf_parameters, numerator, surroundresponse, predneuralweights, spsummedresponse"
   ]
  },
  {
   "cell_type": "code",
   "execution_count": 45,
   "id": "f5b44872",
   "metadata": {
    "pycharm": {
     "name": "#%%\n"
    }
   },
   "outputs": [],
   "source": [
    "stimpath = '/Volumes/server/Projects/attentionpRF/Simulations/matlab_scripts/stimfiles'\n",
    "stim_ecc    = 10\n",
    "attgain     = 4\n",
    "attx0       = 0\n",
    "atty0       = 5\n",
    "attsd       = 1\n",
    "sigmaNorm   = 0.01\n",
    "gridsize    = 64\n",
    "suppWeight  = 3\n",
    "summWeight  = 3\n",
    "# get the baseline estimates\n",
    "prf_parameters_1, numerator_base, surroundresponse_base, baseline_neural, spsummed_base = simulate_normalization_model(stimpath, stim_ecc, 0, 0, 2.3, 2, suppWeight, summWeight, sigmaNorm, gridsize)\n",
    "\n",
    "# get the attention estimates\n",
    "prf_parameters_2, numerator, surroundresponse, predneuralweights, spsummedresponse = simulate_normalization_model(stimpath, stim_ecc, attx0, atty0, attsd, attgain,suppWeight,summWeight,  sigmaNorm, gridsize)"
   ]
  },
  {
   "cell_type": "code",
   "execution_count": 46,
   "id": "2c27e2a3",
   "metadata": {
    "scrolled": false
   },
   "outputs": [
    {
     "data": {
      "application/vnd.jupyter.widget-view+json": {
       "model_id": "3c62600991e0444c84cf3afe56a55631",
       "version_major": 2,
       "version_minor": 0
      },
      "text/plain": [
       "interactive(children=(IntSlider(value=0, description='stimuluslocation', max=47), Output()), _dom_classes=('wi…"
      ]
     },
     "metadata": {},
     "output_type": "display_data"
    }
   ],
   "source": [
    "spsummedresponse_image = np.reshape(spsummedresponse, (gridsize, gridsize, spsummedresponse.shape[1]))\n",
    "predneuralweights_image = np.reshape(predneuralweights, (gridsize, gridsize, predneuralweights.shape[1]))\n",
    "\n",
    "simulated_surround_img = np.reshape(surroundresponse, (gridsize, gridsize, predneuralweights.shape[1]))\n",
    "numImg = np.reshape(numerator, (gridsize, gridsize, predneuralweights.shape[1]))\n",
    "clim = [0, 100]\n",
    "@widgets.interact(stimuluslocation=widgets.IntSlider(min=0, max=predneuralweights_image.shape[2]-1, step=1, value=0))\n",
    "def plot_populationresponse(stimuluslocation):\n",
    "    fig, (ax1, ax2) = plt.subplots(1, 2, figsize=[10,10])\n",
    "    ax1.imshow(numImg[:,:,stimuluslocation], clim = clim, cmap='Reds')\n",
    "    ax1.set_title('numerator')\n",
    "    ax2.imshow(simulated_surround_img[:,:,stimuluslocation],clim = clim,cmap='Reds')\n",
    "    ax2.set_title('suppressive drive')"
   ]
  },
  {
   "cell_type": "code",
   "execution_count": 47,
   "id": "990f1305",
   "metadata": {
    "pycharm": {
     "name": "#%%\n"
    },
    "scrolled": false
   },
   "outputs": [
    {
     "data": {
      "application/vnd.jupyter.widget-view+json": {
       "model_id": "bb5113ee2c294a2d8ee50b21896694ff",
       "version_major": 2,
       "version_minor": 0
      },
      "text/plain": [
       "interactive(children=(IntSlider(value=0, description='stimuluslocation', max=47), Output()), _dom_classes=('wi…"
      ]
     },
     "metadata": {},
     "output_type": "display_data"
    }
   ],
   "source": [
    "# visualize\n",
    "\n",
    "@widgets.interact(stimuluslocation=widgets.IntSlider(min=0, max=predneuralweights_image.shape[2]-1, step=1, value=0))\n",
    "def plot_populationresponse(stimuluslocation):\n",
    "    fig, (ax1, ax2) = plt.subplots(1, 2, figsize=[10,10])\n",
    "    ax1.imshow(predneuralweights_image[:,:,stimuluslocation], cmap='Reds')\n",
    "    ax1.set_title('Predicted neural responses before summation')\n",
    "    ax2.imshow(spsummedresponse_image[:,:,stimuluslocation], cmap='Reds')\n",
    "    ax2.set_title('Predicted neural responses after summation')\n"
   ]
  },
  {
   "cell_type": "code",
   "execution_count": 53,
   "id": "a1db1a88",
   "metadata": {},
   "outputs": [
    {
     "data": {
      "application/vnd.jupyter.widget-view+json": {
       "model_id": "",
       "version_major": 2,
       "version_minor": 0
      },
      "text/plain": [
       "interactive(children=(IntSlider(value=543, description='rf', max=1023, min=543), Output()), _dom_classes=('wid…"
      ]
     },
     "metadata": {},
     "output_type": "display_data"
    }
   ],
   "source": [
    "@widgets.interact(rf=widgets.IntSlider(min=543, max=predneuralweights.shape[0]-1, step=1, value=0))\n",
    "def plot_populationresponse(rf):\n",
    "    plt.plot(predneuralweights[rf,:])\n",
    "    plt.plot(spsummedresponse[rf,:])\n",
    "    plt.legend(['before summation', 'after summation'])\n",
    "\n"
   ]
  }
 ],
 "metadata": {
  "kernelspec": {
   "display_name": "Python 3 (ipykernel)",
   "language": "python",
   "name": "python3"
  },
  "language_info": {
   "codemirror_mode": {
    "name": "ipython",
    "version": 3
   },
   "file_extension": ".py",
   "mimetype": "text/x-python",
   "name": "python",
   "nbconvert_exporter": "python",
   "pygments_lexer": "ipython3",
   "version": "3.8.5"
  }
 },
 "nbformat": 4,
 "nbformat_minor": 5
}
