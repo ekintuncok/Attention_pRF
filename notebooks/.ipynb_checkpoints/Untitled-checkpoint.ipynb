{
 "cells": [
  {
   "cell_type": "code",
   "execution_count": 1,
   "id": "eb454480",
   "metadata": {},
   "outputs": [],
   "source": []
  },
  {
   "cell_type": "code",
   "execution_count": null,
   "id": "9b02e8fc",
   "metadata": {},
   "outputs": [],
   "source": []
  },
  {
   "cell_type": "code",
   "execution_count": 18,
   "id": "bf99c9bd",
   "metadata": {},
   "outputs": [],
   "source": [
    "def random_function_to_understand_unpacking(drinks, food, **extra_expenses):\n",
    "    for arg in extra_expenses.values():\n",
    "        print(arg)\n",
    "    #clothes = 25\n",
    "    total_money_spent = drinks + food\n",
    "    return total_money_spent"
   ]
  },
  {
   "cell_type": "code",
   "execution_count": 19,
   "id": "9461d295",
   "metadata": {},
   "outputs": [
    {
     "name": "stdout",
     "output_type": "stream",
     "text": [
      "22\n"
     ]
    }
   ],
   "source": [
    "total_money_spent = random_function_to_understand_unpacking(10, 12)\n",
    "print(total_money_spent)"
   ]
  },
  {
   "cell_type": "code",
   "execution_count": 20,
   "id": "fb397d94",
   "metadata": {},
   "outputs": [
    {
     "name": "stdout",
     "output_type": "stream",
     "text": [
      "10\n",
      "7\n",
      "22\n"
     ]
    }
   ],
   "source": [
    "total_money_spent = random_function_to_understand_unpacking(10, 12, clothes = 10, books = 7)\n",
    "print(total_money_spent)"
   ]
  },
  {
   "cell_type": "code",
   "execution_count": 37,
   "id": "09f6c849",
   "metadata": {},
   "outputs": [],
   "source": [
    "def random_function_to_understand_unpacking(drinks, food, **extra_expenses):\n",
    "    \n",
    "    for arg in extra_expenses\n",
    "        if arg in extra_expenses:\n",
    "            clothes = extra_expenses.get('clothes') \n",
    "        else:\n",
    "        clothes = 25\n",
    "    total_money_spent = drinks + food + clothes\n",
    "    return total_money_spent\n",
    "\n",
    "\n"
   ]
  },
  {
   "cell_type": "code",
   "execution_count": 38,
   "id": "ed4893e3",
   "metadata": {},
   "outputs": [
    {
     "name": "stdout",
     "output_type": "stream",
     "text": [
      "47\n"
     ]
    }
   ],
   "source": [
    "total_money_spent = random_function_to_understand_unpacking(10, 12)\n",
    "print(total_money_spent)"
   ]
  },
  {
   "cell_type": "code",
   "execution_count": 39,
   "id": "c3a965a4",
   "metadata": {},
   "outputs": [
    {
     "name": "stdout",
     "output_type": "stream",
     "text": [
      "42\n"
     ]
    }
   ],
   "source": [
    "total_money_spent = random_function_to_understand_unpacking(10, 12, clothes = 20)\n",
    "print(total_money_spent)"
   ]
  }
 ],
 "metadata": {
  "kernelspec": {
   "display_name": "Python 3 (ipykernel)",
   "language": "python",
   "name": "python3"
  },
  "language_info": {
   "codemirror_mode": {
    "name": "ipython",
    "version": 3
   },
   "file_extension": ".py",
   "mimetype": "text/x-python",
   "name": "python",
   "nbconvert_exporter": "python",
   "pygments_lexer": "ipython3",
   "version": "3.8.5"
  }
 },
 "nbformat": 4,
 "nbformat_minor": 5
}
