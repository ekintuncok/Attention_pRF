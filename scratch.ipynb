{
 "cells": [
  {
   "cell_type": "code",
   "execution_count": 1,
   "outputs": [],
   "source": [
    "import numpy as np\n",
    "import scipy.io\n",
    "import matplotlib.pyplot as plt\n",
    "import torch\n",
    "from tqdm import tqdm\n",
    "from numba import jit, cuda"
   ],
   "metadata": {
    "collapsed": false,
    "pycharm": {
     "name": "#%%\n"
    }
   }
  },
  {
   "cell_type": "markdown",
   "source": [
    "some notes:\n",
    "change the seed for the random number and try fitting the data multiple times\n",
    "\n"
   ],
   "metadata": {
    "collapsed": false,
    "pycharm": {
     "name": "#%% md\n"
    }
   }
  },
  {
   "cell_type": "markdown",
   "source": [],
   "metadata": {
    "collapsed": false,
    "pycharm": {
     "name": "#%% md\n"
    }
   }
  },
  {
   "cell_type": "code",
   "execution_count": 2,
   "outputs": [],
   "source": [
    "def create_spatial_grid(stim_ecc, gridsize):\n",
    "    \"\"\"This function samples the visual space for a given eccentricity coverage and gridsize.\n",
    "    The x and y coordinate outputs arethen used for creating the pRF parameters (see create_prf_params function).\n",
    "    NMA is strictly implemented for a formulated space, so the model will only work\n",
    "    if the receptive fields are defined within the same grid as the input stimulus. \"\"\"\n",
    "\n",
    "    coord = np.sqrt(((stim_ecc)**2)/2)\n",
    "    x_coordinates = torch.linspace(-coord, coord, gridsize)\n",
    "    y_coordinates = torch.linspace(coord, -coord, gridsize)\n",
    "    y_grid, x_grid = torch.meshgrid(x_coordinates, y_coordinates)\n",
    "    y_grid = -1*y_grid\n",
    "    x_grid = -1*x_grid\n",
    "    return x_coordinates, y_coordinates, x_grid, y_grid\n"
   ],
   "metadata": {
    "collapsed": false,
    "pycharm": {
     "name": "#%%\n"
    }
   }
  },
  {
   "cell_type": "code",
   "execution_count": 3,
   "outputs": [],
   "source": [
    "def prepare_stimulus(stim, gridsize):\n",
    "    \"\"\"This function uses 1D interpolation across columns and rows separately, and resizes the original \n",
    "    stimulus input to the desired grid size\"\"\"    \n",
    "    old_dim, new_dim = stim.shape[0], gridsize\n",
    "    col_im = np.zeros((new_dim,old_dim))\n",
    "    stim_reshaped = np.zeros((new_dim,new_dim,stimorig.shape[2]))\n",
    "    nls, ols = np.linspace(0, 1, new_dim), np.linspace(0,1,old_dim)\n",
    "\n",
    "    for stim_idx in range(0, stimorig.shape[2]):\n",
    "        for col in range(old_dim):\n",
    "            col_im[:,col] = np.interp(nls,ols,stimorig[:,col,stim_idx])\n",
    "        for col in range(new_dim):\n",
    "            stim_reshaped[col,:, stim_idx] = np.interp(nls,ols,col_im[col,:])\n",
    "    \n",
    "    stim_reshaped = torch.from_numpy(stim_reshaped)\n",
    "    stim_reshaped = stim_reshaped.to(torch.float32)\n",
    "    \n",
    "    return stim_reshaped\n",
    "\n"
   ],
   "metadata": {
    "collapsed": false,
    "pycharm": {
     "name": "#%%\n"
    }
   }
  },
  {
   "cell_type": "code",
   "execution_count": 4,
   "outputs": [],
   "source": [
    "def create_prf_centers_torch(x_coordinates, y_coordinates):\n",
    "    \"\"\"Combines each element of x coordinates with y coordinates to tile the visual\n",
    "    field\"\"\"\n",
    "    \n",
    "    prf_parameters = np.zeros((2,len(x_coordinates)*len(y_coordinates)))\n",
    "    iter_idx = 0\n",
    "    \n",
    "    for i in range(0,len(y_coordinates)):\n",
    "        for j in range(0,len(x_coordinates)):\n",
    "            prf_parameters[0,iter_idx] = x_coordinates[j] \n",
    "            prf_parameters[1,iter_idx] = y_coordinates[i]\n",
    "            iter_idx = iter_idx + 1 \n",
    "\n",
    "    prf_parameters = torch.from_numpy(prf_parameters)\n",
    "    \n",
    "    return prf_parameters[0,:], prf_parameters[1,:]\n",
    "\n"
   ],
   "metadata": {
    "collapsed": false,
    "pycharm": {
     "name": "#%%\n"
    }
   }
  },
  {
   "cell_type": "code",
   "execution_count": 5,
   "outputs": [],
   "source": [
    "def create_gaussian_field(x_grid, y_grid, x, y, sigma, type = None, normalize= True, flat = True):\n",
    "    \"\"\"Creates a 2D Gaussian for the given X and Y center and the sigma factor.\n",
    "    Has the option to 1) normalize the Gaussian field to the unit volume and \n",
    "    2) flatten the Gaussian (vectorize it)\"\"\"\n",
    "\n",
    "    gaussian = torch.exp(-((x_grid-x)**2 +(y_grid-y)**2)/(2*sigma)**2)\n",
    "\n",
    "    if type == 'euclidean_distance':\n",
    "        distance = torch.sqrt((x_grid-x)**2+(y_grid-y)**2)\n",
    "        gaussian = torch.exp(-.5*(distance/sigma)**2)\n",
    "    if normalize: \n",
    "        gaussian = gaussian/torch.linalg.norm(gaussian)\n",
    "    if flat:\n",
    "        gaussian = gaussian.flatten()\n",
    "\n",
    "\n",
    "    gaussian = gaussian.to(torch.float32)\n",
    "    \n",
    "    return gaussian\n"
   ],
   "metadata": {
    "collapsed": false,
    "pycharm": {
     "name": "#%%\n"
    }
   }
  },
  {
   "cell_type": "code",
   "execution_count": 6,
   "outputs": [],
   "source": [
    "def interpolate_voxel_center(x_grid, y_grid, voxeldata):\n",
    "\n",
    "    voxel_lookup_indices = torch.empty(voxeldata.shape[1], dtype=torch.long)\n",
    "    distance_vector = torch.empty((len(x_grid)*len(y_grid),voxeldata.shape[1]))\n",
    "    x_grid = x_grid.flatten()\n",
    "    y_grid = y_grid.flatten()\n",
    "\n",
    "    for idx in range(0,voxeldata.shape[1]):\n",
    "        distance_vector[:,idx] = torch.sqrt((voxeldata[0, idx] - x_grid)**2 + (voxeldata[1, idx] - y_grid)**2)\n",
    "        voxel_lookup_indices[idx] = torch.argmin(torch.abs(distance_vector[:,idx]))\n",
    "\n",
    "    return distance_vector, voxel_lookup_indices"
   ],
   "metadata": {
    "collapsed": false,
    "pycharm": {
     "name": "#%%\n"
    }
   }
  },
  {
   "cell_type": "code",
   "execution_count": 7,
   "outputs": [],
   "source": [
    "class NormalizationModelofAttention(torch.nn.Module):\n",
    "    def __init__(self, normalization_sigma, voxeldata, attention_ctr, stim_ecc=10, prf_sigma_scale_factor = None,\n",
    "                 attention_field_sigma = None,\n",
    "                 attention_field_gain = None,\n",
    "                 suppressive_surround_sigma_factor = None,\n",
    "                 summation_field_sigma_factor = None):\n",
    "        \"\"\"\n",
    "        The model is initialized using the X and Y coordinates of the estimated pRFs for each voxel,\n",
    "        total number of voxels (this can be indexed on the first input), grid size (this will depend on how precise\n",
    "        we want to get?), stimulys eccentricity (max) and the X and Y coordinates of attention field\n",
    "        \"\"\"\n",
    "        super().__init__() #super() alone returns a temporary object of the superclass that then allows you to call that superclass’s methods.\n",
    "        self.gridsize = 64\n",
    "        x_coordinates, y_coordinates, self.X, self.Y = create_spatial_grid(stim_ecc, self.gridsize)\n",
    "        self.distance_vector, self.voxel_lookup_indices = interpolate_voxel_center(self.X, self.Y, voxeldata)\n",
    "        self.RF_X, self.RF_Y = create_prf_centers_torch(x_coordinates, y_coordinates)\n",
    "        self.attention_ctr = attention_ctr\n",
    "        self.ROI_normalization_sigma_factor = normalization_sigma\n",
    "        self.voxel_gain = torch.ones((1, len(self.RF_X)), dtype = torch.float32)\n",
    "\n",
    "        for k in ['prf_sigma_scale_factor', 'attention_field_sigma', 'attention_field_gain', 'suppressive_surround_sigma_factor', 'summation_field_sigma_factor']:\n",
    "            v = eval(k)\n",
    "            if v is not None:\n",
    "                setattr(self, k, torch.nn.Parameter(torch.tensor(v, dtype=torch.float32)))\n",
    "                print('Parameter %s is set to %f' %(k, v))\n",
    "            else:\n",
    "                setattr(self, k, torch.nn.Parameter(torch.rand(1, dtype=torch.float32)))\n",
    "\n",
    "    def forward(self, stim):\n",
    "        \"\"\"\n",
    "        Predicts the estimates of BOLD activity for a given input stimulus based on the normalization model of attention.\n",
    "        \"\"\"\n",
    "        if stim.ndim != 3:\n",
    "            stim = stim.unsqueeze(1)\n",
    "            print(\"Stimulus is unsqueezed over the third dimension\")\n",
    "\n",
    "        ##### PREALLOCATE #####\n",
    "        receptive_field = torch.empty((self.gridsize, self.gridsize , self.gridsize *self.gridsize ))\n",
    "        suppressive_surround = torch.empty((self.gridsize *self.gridsize , self.gridsize *self.gridsize ))\n",
    "        summation_field = torch.empty((self.gridsize *self.gridsize , self.gridsize *self.gridsize ))\n",
    "        ##### PREALLOCATE #####\n",
    "\n",
    "\n",
    "        attfield = create_gaussian_field(self.X, self.Y, self.attention_ctr[0], self.attention_ctr[1], self.attention_field_sigma, None, False, True)\n",
    "        attfield =  self.attention_field_gain * attfield + 1\n",
    "\n",
    "\n",
    "        rf_sigma =  0.07 + self.prf_sigma_scale_factor * (torch.sqrt(self.RF_X**2 +  self.RF_Y**2))\n",
    "        rf_supp_sigma = rf_sigma * self.suppressive_surround_sigma_factor\n",
    "        rf_summ_sigma =  rf_sigma * self.summation_field_sigma_factor\n",
    "\n",
    "\n",
    "        for rf in range(0, self.gridsize  * self.gridsize ):\n",
    "            receptive_field[...,rf]        = create_gaussian_field(self.X,self.Y,self.RF_X[rf],self.RF_Y[rf],rf_sigma[rf], None, True, False)\n",
    "            suppressive_surround[...,rf]   = create_gaussian_field(self.X,self.Y,self.RF_X[rf],self.RF_Y[rf],rf_supp_sigma[rf], 'euclidean_distance', True, True)\n",
    "            summation_field[...,rf]        = create_gaussian_field(self.X,self.Y,self.RF_X[rf],self.RF_Y[rf],rf_summ_sigma[rf], 'euclidean_distance', True, True)\n",
    "\n",
    "        ######\n",
    "        stimdrive        = torch.einsum('ijk,ija->ka', receptive_field, stim)\n",
    "        numerator        = torch.einsum('ij,i->ij', stimdrive, attfield)\n",
    "        surroundresponse =  torch.einsum('wr,rs->ws', suppressive_surround.T, numerator)\n",
    "\n",
    "        #denominator = torch.clip(surroundresponse +  self.ROI_normalization_sigma_factor, 1e-6)\n",
    "        # if surroundresponse +  self.ROI_normalization_sigma_factor < 1e-6:\n",
    "        #    print(\"Clipping the denominator (original value: %f)\" %(surroundresponse +  self.ROI_normalization_sigma_factor))\n",
    "\n",
    "        predneuralweights = numerator / (surroundresponse + self.ROI_normalization_sigma_factor)\n",
    "\n",
    "        spsummedresponse =  torch.einsum('wr,rs->ws', summation_field.T, predneuralweights)\n",
    "        predicted_neural_response = predneuralweights[self.voxel_lookup_indices]\n",
    "        predicted_voxel_response = spsummedresponse[self.voxel_lookup_indices]\n",
    "\n",
    "        return predicted_voxel_response"
   ],
   "metadata": {
    "collapsed": false,
    "pycharm": {
     "name": "#%%\n"
    }
   }
  },
  {
   "cell_type": "markdown",
   "source": [
    "Now define the objective function to optimize the beta weights predicted by normalization model. It *feels* like it will do it over all the voxels."
   ],
   "metadata": {
    "collapsed": false,
    "pycharm": {
     "name": "#%% md\n"
    }
   }
  },
  {
   "cell_type": "markdown",
   "source": [
    "Construct the optimizer:"
   ],
   "metadata": {
    "collapsed": false,
    "pycharm": {
     "name": "#%% md\n"
    }
   }
  },
  {
   "cell_type": "code",
   "execution_count": 48,
   "outputs": [],
   "source": [
    "stimpath = '/Volumes/server/Projects/attentionpRF/Simulations/python_scripts/stimfiles'\n",
    "stimtemp = scipy.io.loadmat(stimpath + '/stim.mat')\n",
    "stimtemp = torch.from_numpy(stimtemp['stim']).to(torch.float32)\n",
    "stimorig = stimtemp[:,:,0:48]\n",
    "gridsize = 64\n",
    "stim_ecc = 10\n",
    "\n",
    "input_stim = prepare_stimulus(stimorig, gridsize)"
   ],
   "metadata": {
    "collapsed": false,
    "pycharm": {
     "name": "#%%\n"
    }
   }
  },
  {
   "cell_type": "code",
   "execution_count": 49,
   "outputs": [],
   "source": [
    "attention_ctr = (5,0)\n",
    "normalization_sigma = 0.01"
   ],
   "metadata": {
    "collapsed": false,
    "pycharm": {
     "name": "#%%\n"
    }
   }
  },
  {
   "cell_type": "code",
   "execution_count": 50,
   "outputs": [],
   "source": [
    "seed = 1\n",
    "torch.manual_seed(seed)\n",
    "np.random.seed(seed)"
   ],
   "metadata": {
    "collapsed": false,
    "pycharm": {
     "name": "#%%\n"
    }
   }
  },
  {
   "cell_type": "code",
   "execution_count": 74,
   "outputs": [],
   "source": [
    "# load the simulated data and the pRF centers for the simulated data\n",
    "simulated_data_dir = '/Volumes/server/Projects/attentionpRF/Simulations/python_scripts/data/'\n",
    "measured_response_simulated = np.load(simulated_data_dir + 'predicted_response.npy', mmap_mode=None, allow_pickle=False, fix_imports=True, encoding='ASCII')\n",
    "voxeldata_simulated = np.load(simulated_data_dir + 'simulated_prf_centers.npy', mmap_mode=None, allow_pickle=False, fix_imports=True, encoding='ASCII')\n",
    "measured_response_simulated = torch.from_numpy(measured_response_simulated)\n",
    "measured_response_simulated = measured_response_simulated.to(torch.float32)"
   ],
   "metadata": {
    "collapsed": false,
    "pycharm": {
     "name": "#%%\n"
    }
   }
  },
  {
   "cell_type": "code",
   "execution_count": 75,
   "outputs": [],
   "source": [
    "nma_fit = NormalizationModelofAttention(normalization_sigma, voxeldata_simulated, attention_ctr, stim_ecc)\n",
    "predicted_voxel_response = nma_fit(input_stim)"
   ],
   "metadata": {
    "collapsed": false,
    "pycharm": {
     "name": "#%%\n"
    }
   }
  },
  {
   "cell_type": "code",
   "execution_count": 92,
   "outputs": [],
   "source": [
    "optimizer = torch.optim.Adam([nma_fit.voxel_gain, # estimated per voxel\n",
    "                              nma_fit.prf_sigma_scale_factor, # estimated for the ROI ? slope\n",
    "                              nma_fit.attention_field_sigma, #  estimated for the ROI\n",
    "                              nma_fit.attention_field_gain, #  estimated for the ROI\n",
    "                              nma_fit.suppressive_surround_sigma_factor, #estimated per voxel? not sure if we will change\n",
    "                              nma_fit.summation_field_sigma_factor],  # estimated for the ROI\n",
    "                              lr=1e-1)"
   ],
   "metadata": {
    "collapsed": false,
    "pycharm": {
     "name": "#%%\n"
    }
   }
  },
  {
   "cell_type": "code",
   "execution_count": 93,
   "outputs": [],
   "source": [
    "#def obj_function(measured_response, predicted_nma_response):\n",
    "#    sum_of_squared_errors = torch.sum(torch.square(measured_response-predicted_nma_response))\n",
    "#    return sum_of_squared_errors"
   ],
   "metadata": {
    "collapsed": false,
    "pycharm": {
     "name": "#%%\n"
    }
   }
  },
  {
   "cell_type": "code",
   "execution_count": 94,
   "outputs": [],
   "source": [
    "loss_func = torch.nn.MSELoss()\n"
   ],
   "metadata": {
    "collapsed": false,
    "pycharm": {
     "name": "#%%\n"
    }
   }
  },
  {
   "cell_type": "code",
   "execution_count": 95,
   "outputs": [
    {
     "name": "stdout",
     "output_type": "stream",
     "text": [
      "prf_sigma_scale_factor tensor([0.8431])\n",
      "attention_field_sigma tensor([0.3116])\n",
      "attention_field_gain tensor([0.6711])\n",
      "suppressive_surround_sigma_factor tensor([0.4584])\n",
      "summation_field_sigma_factor tensor([0.5383])\n"
     ]
    }
   ],
   "source": [
    "list(nma_fit.parameters())\n",
    "for param, val in nma_fit.named_parameters():\n",
    "    print(param, val.clone().detach())"
   ],
   "metadata": {
    "collapsed": false,
    "pycharm": {
     "name": "#%%\n"
    }
   }
  },
  {
   "cell_type": "code",
   "execution_count": 96,
   "outputs": [
    {
     "name": "stderr",
     "output_type": "stream",
     "text": [
      "100%|██████████| 500/500 [25:03:20<00:00, 180.40s/it, attention_field_gain=tensor([1.0872]), attention_field_sigma=tensor([0.6485]), loss=1.67, prf_sigma_scale_factor=tensor([0.0848]), summation_field_sigma_factor=tensor([0.8548]), suppressive_surround_sigma_factor=tensor([0.2199])]   \n"
     ]
    }
   ],
   "source": [
    "losses = []\n",
    "param_vals = {'prf_sigma_scale_factor': torch.tensor([]), 'attention_field_sigma': torch.tensor([]), 'attention_field_gain': torch.tensor([]),\n",
    "              'suppressive_surround_sigma_factor': torch.tensor([]), 'summation_field_sigma_factor': torch.tensor([])}\n",
    "number_of_iterations = 500\n",
    "current_params = {}\n",
    "pbar = tqdm(range(number_of_iterations))\n",
    "for i in pbar:\n",
    "    predicted_voxel_response = nma_fit(input_stim)\n",
    "    #loss = obj_function(measured_response_simulated, predicted_voxel_response)\n",
    "    loss = loss_func(predicted_voxel_response, measured_response_simulated)\n",
    "    optimizer.zero_grad() # resetting the calculated gradients\n",
    "    loss.backward() # this computes the gradient\n",
    "    optimizer.step()\n",
    "    losses.append(loss.item())\n",
    "    for k, v in nma_fit.named_parameters():\n",
    "        current_params[k] = v.clone().detach()\n",
    "        param_vals[k] = torch.cat([param_vals[k], v.clone().detach()], -1)\n",
    "    pbar.set_postfix(loss=losses[-1], **current_params)"
   ],
   "metadata": {
    "collapsed": false,
    "pycharm": {
     "name": "#%%\n"
    }
   }
  },
  {
   "cell_type": "code",
   "execution_count": 117,
   "outputs": [
    {
     "data": {
      "text/plain": "Text(0.5, 1.0, 'loss across iterations')"
     },
     "execution_count": 117,
     "metadata": {},
     "output_type": "execute_result"
    },
    {
     "data": {
      "text/plain": "<Figure size 432x288 with 1 Axes>",
      "image/png": "[encoded data removed]"
     },
     "metadata": {
      "needs_background": "light"
     },
     "output_type": "display_data"
    }
   ],
   "source": [
    "plt.semilogy(losses)\n",
    "plt.title('loss across iterations')"
   ],
   "metadata": {
    "collapsed": false,
    "pycharm": {
     "name": "#%%\n"
    }
   }
  },
  {
   "cell_type": "code",
   "execution_count": 116,
   "outputs": [
    {
     "data": {
      "text/plain": "<Figure size 432x288 with 1 Axes>",
      "image/png": "[encoded data removed]"
     },
     "metadata": {
      "needs_background": "light"
     },
     "output_type": "display_data"
    }
   ],
   "source": [
    "plt.figure()\n",
    "plt.plot(param_vals['summation_field_sigma_factor'], color='r')\n",
    "plt.axhline(y=3, color='r', linestyle='--')\n",
    "plt.plot(param_vals['attention_field_gain'], color = 'k')\n",
    "plt.axhline(y=4, color='k', linestyle='--')\n",
    "plt.plot(param_vals['prf_sigma_scale_factor'], color= 'b')\n",
    "plt.axhline(y=0.07, color='b', linestyle='--')\n",
    "plt.plot(param_vals['suppressive_surround_sigma_factor'], color= 'forestgreen')\n",
    "plt.axhline(y=3, color='forestgreen', linestyle='--');"
   ],
   "metadata": {
    "collapsed": false,
    "pycharm": {
     "name": "#%%\n"
    }
   }
  },
  {
   "cell_type": "code",
   "execution_count": 108,
   "outputs": [],
   "source": [],
   "metadata": {
    "collapsed": false,
    "pycharm": {
     "name": "#%%\n"
    }
   }
  },
  {
   "cell_type": "code",
   "execution_count": null,
   "outputs": [],
   "source": [],
   "metadata": {
    "collapsed": false,
    "pycharm": {
     "name": "#%%\n"
    }
   }
  }
 ],
 "metadata": {
  "kernelspec": {
   "display_name": "Python 3 (ipykernel)",
   "language": "python",
   "name": "python3"
  },
  "language_info": {
   "codemirror_mode": {
    "name": "ipython",
    "version": 3
   },
   "file_extension": ".py",
   "mimetype": "text/x-python",
   "name": "python",
   "nbconvert_exporter": "python",
   "pygments_lexer": "ipython3",
   "version": "3.8.5"
  }
 },
 "nbformat": 4,
 "nbformat_minor": 5
}